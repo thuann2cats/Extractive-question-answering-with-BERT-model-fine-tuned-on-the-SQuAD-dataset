{
 "cells": [
  {
   "cell_type": "markdown",
   "metadata": {},
   "source": [
    "In this [experiment](Question-Answering.ipynb), I fine-tuned a BERT model on the SQuAD dataset for the task of extractive question answering. (I learned the general data preprocessing, training and evaluation approach from this [tutorial](https://huggingface.co/learn/nlp-course/chapter7/7?fw=pt) on Hugging Face NLP course, and wrote my own scripts.)\n",
    "\n",
    "The goal is to identify the correct span of text in a document (context) that answers a given question. During data preparation, I converted the ground-truth answers to labels used for training. Specifically, these labels were the start and end token positions within the \"tokenized context.\" \n",
    "\n",
    "On the SQuAD metric, BERT had an F1 score on validation set of 4% before finetuning and 80% after finetuning. The **Results** section below show some context paragraphs, questions and extracted answers. After finetuning, BERT seems able to spot the answers even after I tried to phrase the questions in highly abstract terms and avoid the more obvious wording from the original context.\n",
    "\n",
    "The experiment demonstrated BERT's capability to perform on downstream NLP tasks - in this case accurately extracting factual answers from context. It also helped me practice some techniques such as\n",
    "- handling long contexts by creating multiple training examples (using a sliding window), ensuring all relevant parts of the context are captured for the model\n",
    "- using the tokenizer-generated offset mappings to correctly align the token indices with the original answer spans\n",
    "- evaluating the model's predictions using the SQuAD benchmark, which came off-the-shelf from the `evaluate` library\n",
    "\n",
    "## Verifying the evaluation code\n",
    "\n",
    "The model basically scores start and end tokens within the context to assess how likely each token should be the start and end of the answer. During inference, to make predictions, we try to select a pair of start and end tokens that would together have the highest probability, meaning they represent the most correct answer. (Some pairs are excluded from consideration - please see the code or the original tutorial for further details.)\n",
    "\n",
    "I implemented a vectorized version (relying on matrix operations) of this inference process, instead of using the steps outlined in the tutorial. To verify my implementation of evaluation code, I ran a DistilBERT model that was already fine-tuned on SQuAD on a small validation set. As expected, the SQuAD-pretrained BERT performed well with the `evaluate.load('squad')` benchmark.\n",
    "\n",
    "```\n",
    "from transformers import AutoModelForQuestionAnswering\n",
    "trained_checkpoint = \"distilbert-base-cased-distilled-squad\"\n",
    "model = AutoModelForQuestionAnswering.from_pretrained(trained_checkpoint)\n",
    "```\n",
    "\n",
    "Results:\n",
    "```\n",
    "{'exact_match': 75.25, 'f1': 78.58002727406753}\n",
    "```\n",
    "\n",
    "Meanwhile, the pre-finetuned BERT model scored poorly before finetuning:\n",
    "```\n",
    "{'exact_match': 0.0, 'f1': 4.363390189980071}\n",
    "```\n",
    "\n",
    "## Training\n",
    "\n",
    "The model is then trained and evaluated using the same SQuAD benchmark. It scored much better on the validation data after fine-tuning.\n",
    "\n",
    "```\n",
    "{'exact_match': 71.1, 'f1': 80.62985630352878}\n",
    "```\n",
    "\n",
    "![Training loss curve](training-loss-curve.png)\n"
   ]
  },
  {
   "cell_type": "code",
   "execution_count": 1,
   "metadata": {},
   "outputs": [],
   "source": [
    "import torch\n",
    "\n",
    "# so that the Tensor representation in debugging view shows the tensor shape\n",
    "normal_repr = torch.Tensor.__repr__ \n",
    "torch.Tensor.__repr__ = lambda self: f\"{self.shape}_{normal_repr(self)}\"  "
   ]
  },
  {
   "cell_type": "markdown",
   "metadata": {},
   "source": [
    "# Model and dataset names"
   ]
  },
  {
   "cell_type": "code",
   "execution_count": 2,
   "metadata": {},
   "outputs": [],
   "source": [
    "from transformers import AutoTokenizer\n",
    "\n",
    "model_checkpoint = \"google-bert/bert-base-cased\"\n",
    "dataset_name = \"squad\"\n",
    "\n",
    "# for tokenizers\n",
    "max_length = 384\n",
    "stride = 128\n"
   ]
  },
  {
   "cell_type": "code",
   "execution_count": 3,
   "metadata": {},
   "outputs": [
    {
     "data": {
      "application/vnd.jupyter.widget-view+json": {
       "model_id": "33b82cb7f5a9495ba88121806a8e4e10",
       "version_major": 2,
       "version_minor": 0
      },
      "text/plain": [
       "tokenizer_config.json:   0%|          | 0.00/49.0 [00:00<?, ?B/s]"
      ]
     },
     "metadata": {},
     "output_type": "display_data"
    },
    {
     "data": {
      "application/vnd.jupyter.widget-view+json": {
       "model_id": "c9f248ee642a4b46b54f29226c5404b9",
       "version_major": 2,
       "version_minor": 0
      },
      "text/plain": [
       "config.json:   0%|          | 0.00/570 [00:00<?, ?B/s]"
      ]
     },
     "metadata": {},
     "output_type": "display_data"
    },
    {
     "data": {
      "application/vnd.jupyter.widget-view+json": {
       "model_id": "40027c8b06da448d8c1641024c664e95",
       "version_major": 2,
       "version_minor": 0
      },
      "text/plain": [
       "vocab.txt:   0%|          | 0.00/213k [00:00<?, ?B/s]"
      ]
     },
     "metadata": {},
     "output_type": "display_data"
    },
    {
     "data": {
      "application/vnd.jupyter.widget-view+json": {
       "model_id": "b749b9eb921642debf992c3aec9fa480",
       "version_major": 2,
       "version_minor": 0
      },
      "text/plain": [
       "tokenizer.json:   0%|          | 0.00/436k [00:00<?, ?B/s]"
      ]
     },
     "metadata": {},
     "output_type": "display_data"
    },
    {
     "name": "stderr",
     "output_type": "stream",
     "text": [
      "/opt/conda/envs/HF_NLP/lib/python3.12/site-packages/transformers/tokenization_utils_base.py:1601: FutureWarning: `clean_up_tokenization_spaces` was not set. It will be set to `True` by default. This behavior will be depracted in transformers v4.45, and will be then set to `False` by default. For more details check this issue: https://github.com/huggingface/transformers/issues/31884\n",
      "  warnings.warn(\n"
     ]
    }
   ],
   "source": [
    "tokenizer = AutoTokenizer.from_pretrained(model_checkpoint)"
   ]
  },
  {
   "cell_type": "code",
   "execution_count": 4,
   "metadata": {},
   "outputs": [
    {
     "data": {
      "text/plain": [
       "True"
      ]
     },
     "execution_count": 4,
     "metadata": {},
     "output_type": "execute_result"
    }
   ],
   "source": [
    "torch.cuda.is_available()"
   ]
  },
  {
   "cell_type": "markdown",
   "metadata": {},
   "source": [
    "# Loading the 'squad' dataset"
   ]
  },
  {
   "cell_type": "code",
   "execution_count": 5,
   "metadata": {},
   "outputs": [
    {
     "data": {
      "application/vnd.jupyter.widget-view+json": {
       "model_id": "5b069dae1270446f9107b65264e20892",
       "version_major": 2,
       "version_minor": 0
      },
      "text/plain": [
       "Downloading readme:   0%|          | 0.00/7.62k [00:00<?, ?B/s]"
      ]
     },
     "metadata": {},
     "output_type": "display_data"
    },
    {
     "data": {
      "application/vnd.jupyter.widget-view+json": {
       "model_id": "febfc1c0fbf0455498cd60c6b92ee2fb",
       "version_major": 2,
       "version_minor": 0
      },
      "text/plain": [
       "Downloading data:   0%|          | 0.00/14.5M [00:00<?, ?B/s]"
      ]
     },
     "metadata": {},
     "output_type": "display_data"
    },
    {
     "data": {
      "application/vnd.jupyter.widget-view+json": {
       "model_id": "78eb47c97e5140dcbf6059acf86ed647",
       "version_major": 2,
       "version_minor": 0
      },
      "text/plain": [
       "Downloading data:   0%|          | 0.00/1.82M [00:00<?, ?B/s]"
      ]
     },
     "metadata": {},
     "output_type": "display_data"
    },
    {
     "data": {
      "application/vnd.jupyter.widget-view+json": {
       "model_id": "4ec397c02b1248979f8abd65b4687516",
       "version_major": 2,
       "version_minor": 0
      },
      "text/plain": [
       "Generating train split:   0%|          | 0/87599 [00:00<?, ? examples/s]"
      ]
     },
     "metadata": {},
     "output_type": "display_data"
    },
    {
     "data": {
      "application/vnd.jupyter.widget-view+json": {
       "model_id": "3265a8ad73ba4088ab6698122f1de8f8",
       "version_major": 2,
       "version_minor": 0
      },
      "text/plain": [
       "Generating validation split:   0%|          | 0/10570 [00:00<?, ? examples/s]"
      ]
     },
     "metadata": {},
     "output_type": "display_data"
    }
   ],
   "source": [
    "from datasets import Dataset, DatasetDict, load_dataset\n",
    "dataset_squad_original: Dataset = load_dataset(\"squad\")\n"
   ]
  },
  {
   "cell_type": "code",
   "execution_count": 7,
   "metadata": {},
   "outputs": [
    {
     "data": {
      "text/plain": [
       "DatasetDict({\n",
       "    train: Dataset({\n",
       "        features: ['id', 'title', 'context', 'question', 'answers'],\n",
       "        num_rows: 87599\n",
       "    })\n",
       "    validation: Dataset({\n",
       "        features: ['id', 'title', 'context', 'question', 'answers'],\n",
       "        num_rows: 10570\n",
       "    })\n",
       "})"
      ]
     },
     "execution_count": 7,
     "metadata": {},
     "output_type": "execute_result"
    }
   ],
   "source": [
    "dataset_squad_original"
   ]
  },
  {
   "cell_type": "code",
   "execution_count": 8,
   "metadata": {},
   "outputs": [
    {
     "data": {
      "text/plain": [
       "DatasetDict({\n",
       "    train: Dataset({\n",
       "        features: ['id', 'title', 'context', 'question', 'answers'],\n",
       "        num_rows: 50000\n",
       "    })\n",
       "    valid: Dataset({\n",
       "        features: ['id', 'title', 'context', 'question', 'answers'],\n",
       "        num_rows: 5000\n",
       "    })\n",
       "})"
      ]
     },
     "execution_count": 8,
     "metadata": {},
     "output_type": "execute_result"
    }
   ],
   "source": [
    "# get a smaller version\n",
    "dataset_squad_mini: Dataset = DatasetDict({\n",
    "    \"train\": dataset_squad_original[\"train\"].select(range(50000)),\n",
    "    \"valid\": dataset_squad_original[\"validation\"].select(range(5000)),}\n",
    ")\n",
    "# info(dataset_squad_original)\n",
    "dataset_squad_mini"
   ]
  },
  {
   "cell_type": "markdown",
   "metadata": {},
   "source": [
    "# Data preprocessing (training)"
   ]
  },
  {
   "cell_type": "code",
   "execution_count": 9,
   "metadata": {},
   "outputs": [
    {
     "data": {
      "text/plain": [
       "Dataset({\n",
       "    features: ['id', 'title', 'context', 'question', 'answers'],\n",
       "    num_rows: 50000\n",
       "})"
      ]
     },
     "execution_count": 9,
     "metadata": {},
     "output_type": "execute_result"
    }
   ],
   "source": [
    "# get the dataset \"train\" split\n",
    "dataset_squad_train: Dataset = dataset_squad_mini[\"train\"]\n",
    "dataset_squad_train"
   ]
  },
  {
   "cell_type": "markdown",
   "metadata": {},
   "source": [
    "## Tokenizing and creating labels"
   ]
  },
  {
   "cell_type": "code",
   "execution_count": 12,
   "metadata": {},
   "outputs": [],
   "source": [
    "\n",
    "def tokenize_and_create_label(batch):\n",
    "    \n",
    "    questions = [q.strip() for q in batch[\"question\"]]\n",
    "    # questions = batch[\"question\"]\n",
    "    batch_tokenized = tokenizer(text=questions, text_pair=batch[\"context\"],\n",
    "                                                   truncation=\"only_second\", max_length=max_length, \n",
    "                                                   padding=\"max_length\",\n",
    "                                                   stride=stride,\n",
    "                                                   return_overflowing_tokens=True, \n",
    "                                                #    return_length=True,\n",
    "                                                   return_offsets_mapping=True,\n",
    "                                                   )\n",
    "    \n",
    "    start_positions = []\n",
    "    end_positions = []\n",
    "    # loop through each \"tokenized example\"\n",
    "    # for each \"tokenized example\",\n",
    "    for tokenized_example_idx in range(len(batch_tokenized[\"input_ids\"])):\n",
    "        # find out the corresponding id of the corresponding \"original example\"\n",
    "        id_original_example = batch_tokenized[\"overflow_to_sample_mapping\"][tokenized_example_idx]\n",
    "        \n",
    "        # DEBUGGING:\n",
    "        if batch[\"id\"][id_original_example] in [\"570ba1b2ec8fbc190045ba8e\"]:\n",
    "            pass\n",
    "        \n",
    "        # determine the start and end indices of the answer within the \"original example\"\n",
    "        answer_text = batch[\"answers\"][id_original_example][\"text\"][0]\n",
    "        answer_start_character_position = batch[\"answers\"][id_original_example][\"answer_start\"][0]\n",
    "        answer_end_character_position = answer_start_character_position + len(answer_text) - 1\n",
    "    \n",
    "        # for this \"tokenized example,\" see if those start and end indices occur within this tokenized example\n",
    "        # if not, then the label (start position, end position) for this particular tokenized example should be 0, 0\n",
    "        # if found, then the label (start position, end position) for this particular tokenized example should be the indices of the tokens within this \"tokenized example\"\n",
    "        # first, find out the position of first token within this tokenized example that is the start of the context\n",
    "        # from that position, increment repeatedly to find out the position of the token that corresponds to the start of the answer\n",
    "        # then, from the last position within this tokenized example, decrement repeatedly to find out the position that corresponds to the end of the answer\n",
    "        # build up the start_positions and end_positions list\n",
    "        token_type_ids = batch_tokenized.sequence_ids(tokenized_example_idx)\n",
    "        for i in range(len(token_type_ids)):\n",
    "            if (token_type_ids[i] == 1):\n",
    "                break\n",
    "        token_idx_start_of_context = i\n",
    "        for i in range(len(token_type_ids) - 1, token_idx_start_of_context - 1, -1):\n",
    "            if token_type_ids[i] == 1:\n",
    "                break\n",
    "        token_idx_end_of_context = i\n",
    "    \n",
    "        start_of_context_mapping_tuple = batch_tokenized[\"offset_mapping\"][tokenized_example_idx][token_idx_start_of_context]\n",
    "        end_of_context_mapping_tuple = batch_tokenized[\"offset_mapping\"][tokenized_example_idx][token_idx_end_of_context]\n",
    "        if start_of_context_mapping_tuple[0] > answer_start_character_position or end_of_context_mapping_tuple[1] < (answer_end_character_position + 1):\n",
    "            label = (0, 0)\n",
    "        else:\n",
    "            start_position = None\n",
    "            end_position = None\n",
    "            for i in range(token_idx_start_of_context, len(batch_tokenized[\"offset_mapping\"][tokenized_example_idx])):\n",
    "                offset_mapping_tuple = batch_tokenized[\"offset_mapping\"][tokenized_example_idx][i]\n",
    "                if offset_mapping_tuple[0] > answer_start_character_position:\n",
    "                    start_position = i - 1\n",
    "                    break\n",
    "            if start_position is None:\n",
    "                start_position = token_idx_end_of_context\n",
    "                \n",
    "            for i in range(token_idx_end_of_context, token_idx_start_of_context - 1, -1):\n",
    "                offset_mapping_tuple = batch_tokenized[\"offset_mapping\"][tokenized_example_idx][i]\n",
    "                if offset_mapping_tuple[1] < (answer_end_character_position + 1):\n",
    "                    end_position = i + 1\n",
    "                    break\n",
    "            if end_position is None:\n",
    "                end_position = token_idx_start_of_context\n",
    "            \n",
    "            label = (start_position, end_position)\n",
    "\n",
    "            # double check\n",
    "            double_check_start_char_in_context = batch_tokenized[\"offset_mapping\"][tokenized_example_idx][start_position][0]\n",
    "            double_check_end_char_in_context = batch_tokenized[\"offset_mapping\"][tokenized_example_idx][end_position][1]\n",
    "            double_check_ans_text = batch[\"context\"][id_original_example][double_check_start_char_in_context : double_check_end_char_in_context]\n",
    "            if double_check_ans_text != answer_text:\n",
    "                # print(double_check_ans_text)\n",
    "                # print(answer_text)\n",
    "                # pdb.set_trace()\n",
    "                label = (0, 0)\n",
    "                print(f\"WARNIN': Mismatched answer spans. Ignored. Id: {batch[\"id\"][id_original_example]}. Ground-truth: {answer_text}. Extracted: {double_check_ans_text}\")\n",
    "                # assert double_check_ans_text == answer_text\n",
    "                \n",
    "            \n",
    "            \n",
    "        start_positions.append(label[0])\n",
    "        end_positions.append(label[1])\n",
    "        # print(start_positions, \" * \", end_positions)\n",
    "    batch_tokenized[\"start_positions\"] = start_positions\n",
    "    batch_tokenized[\"end_positions\"] = end_positions\n",
    "    \n",
    "    if \"token_type_ids\" not in batch_tokenized.keys():\n",
    "        token_type_ids = []\n",
    "        for tokenized_example_idx in range(len(batch_tokenized[\"input_ids\"])):\n",
    "            token_type_sequence = [1 if token_type == 1 else 0\n",
    "                                   for token_type in batch_tokenized.sequence_ids((tokenized_example_idx))]\n",
    "            token_type_ids.append(token_type_sequence)\n",
    "            \n",
    "        batch_tokenized[\"token_type_ids\"] = token_type_ids  \n",
    "    \n",
    "    # print(len(batch_tokenized[\"input_ids\"]), len(start_positions))\n",
    "    return batch_tokenized\n",
    "\n",
    "# tokenize_and_create_labels(dataset_squad_train_tokenized)\n"
   ]
  },
  {
   "cell_type": "code",
   "execution_count": 13,
   "metadata": {},
   "outputs": [
    {
     "data": {
      "application/vnd.jupyter.widget-view+json": {
       "model_id": "6acd398983254a1aaf33fceebc27ba7b",
       "version_major": 2,
       "version_minor": 0
      },
      "text/plain": [
       "Map:   0%|          | 0/50000 [00:00<?, ? examples/s]"
      ]
     },
     "metadata": {},
     "output_type": "display_data"
    },
    {
     "name": "stdout",
     "output_type": "stream",
     "text": [
      "WARNIN': Mismatched answer spans. Ignored. Id: 56d62f3e1c85041400946fa5. Ground-truth: hunt. Extracted: hunting\n",
      "WARNIN': Mismatched answer spans. Ignored. Id: 56e10ac2cd28a01900c674bb. Ground-truth: 5. Extracted: 35\n",
      "WARNIN': Mismatched answer spans. Ignored. Id: 56cf36e5aab44d1400b88e71. Ground-truth: 65,000. Extracted: 865,000\n",
      "WARNIN': Mismatched answer spans. Ignored. Id: 56be973d3aeaaa14008c9123. Ground-truth: six. Extracted: sixth\n",
      "WARNIN': Mismatched answer spans. Ignored. Id: 56de0abc4396321400ee2563. Ground-truth: Islam. Extracted: Islamic\n",
      "WARNIN': Mismatched answer spans. Ignored. Id: 56df86855ca0a614008f9c1d. Ground-truth: 3. Extracted: 35\n",
      "WARNIN': Mismatched answer spans. Ignored. Id: 572628deec44d21400f3daaf. Ground-truth: refor. Extracted: reforms\n",
      "WARNIN': Mismatched answer spans. Ignored. Id: 57267bf95951b619008f7447. Ground-truth: 32. Extracted: 32nd\n",
      "WARNIN': Mismatched answer spans. Ignored. Id: 56dfa6de7aa994140058df9b. Ground-truth: no. Extracted: notes\n",
      "WARNIN': Mismatched answer spans. Ignored. Id: 56cf8915234ae51400d9be15. Ground-truth: 3. Extracted: 35\n",
      "WARNIN': Mismatched answer spans. Ignored. Id: 56cdcf7d62d2951400fa686d. Ground-truth: M. Extracted: Mallory\n",
      "WARNIN': Mismatched answer spans. Ignored. Id: 56e6eb396fe0821900b8ec27. Ground-truth: b. Extracted: been\n",
      "WARNIN': Mismatched answer spans. Ignored. Id: 56cf4113aab44d1400b88ee0. Ground-truth: four. Extracted: fourth\n",
      "WARNIN': Mismatched answer spans. Ignored. Id: 56cd682162d2951400fa658e. Ground-truth: Tibet. Extracted: Tibetan\n",
      "WARNIN': Mismatched answer spans. Ignored. Id: 57280b532ca10214002d9c7e. Ground-truth: Some people with asthma rarely experience symptoms, u. Extracted: Some people with asthma rarely experience symptoms, usually\n",
      "WARNIN': Mismatched answer spans. Ignored. Id: 56df5e8e96943c1400a5d44d. Ground-truth: 2. Extracted: 27\n",
      "WARNIN': Mismatched answer spans. Ignored. Id: 56cf64d24df3c31400b0d6f5. Ground-truth: 3. Extracted: 2003\n",
      "WARNIN': Mismatched answer spans. Ignored. Id: 573189d6e6313a140071d066. Ground-truth: y science-fiction and adventure. Extracted: early science-fiction and adventure\n",
      "WARNIN': Mismatched answer spans. Ignored. Id: 57265693dd62a815002e81ed. Ground-truth: often scripted to dispense with the appearance of neutrality and use their influence to unfairly influence the outcome of the match for added dramatic impact. F. Extracted: often scripted to dispense with the appearance of neutrality and use their influence to unfairly influence the outcome of the match for added dramatic impact. Face\n",
      "WARNIN': Mismatched answer spans. Ignored. Id: 56e722d937bdd419002c3d8f. Ground-truth: extreme. Extracted: extremely\n",
      "WARNIN': Mismatched answer spans. Ignored. Id: 56df623596943c1400a5d494. Ground-truth: 20. Extracted: 2009\n",
      "WARNIN': Mismatched answer spans. Ignored. Id: 56ce726faab44d1400b88793. Ground-truth: 3. Extracted: 23\n",
      "WARNIN': Mismatched answer spans. Ignored. Id: 56cf657b4df3c31400b0d6ff. Ground-truth: 2. Extracted: 2004\n",
      "WARNIN': Mismatched answer spans. Ignored. Id: 56df98d938dc4217001520b6. Ground-truth: 5. Extracted: 58\n",
      "WARNIN': Mismatched answer spans. Ignored. Id: 56e1500fcd28a01900c677a1. Ground-truth: four. Extracted: fourth\n",
      "WARNIN': Mismatched answer spans. Ignored. Id: 56d3ac8e2ccc5a1400d82e1b. Ground-truth: opera. Extracted: operatic\n",
      "WARNIN': Mismatched answer spans. Ignored. Id: 56bf7e603aeaaa14008c9681. Ground-truth: split with Luckett and Rober. Extracted: split with Luckett and Roberson\n",
      "WARNIN': Mismatched answer spans. Ignored. Id: 56dfb5977aa994140058e02e. Ground-truth: 3. Extracted: 23\n",
      "WARNIN': Mismatched answer spans. Ignored. Id: 56f88857a6d7ea1400e1772e. Ground-truth: continental Europe. Extracted: continental European\n",
      "WARNIN': Mismatched answer spans. Ignored. Id: 56df844f56340a1900b29cca. Ground-truth: 60 w. Extracted: 60 wa\n",
      "WARNIN': Mismatched answer spans. Ignored. Id: 56f7083a711bf01900a448f6. Ground-truth: peaceful. Extracted: peacefully\n",
      "WARNIN': Mismatched answer spans. Ignored. Id: 56de57394396321400ee2830. Ground-truth: six. Extracted: sixth\n",
      "WARNIN': Mismatched answer spans. Ignored. Id: 56cd8ffa62d2951400fa6723. Ground-truth: Japan. Extracted: Japanese\n",
      "WARNIN': Mismatched answer spans. Ignored. Id: 56df95d44a1a83140091eb81. Ground-truth: ano. Extracted: another\n",
      "WARNIN': Mismatched answer spans. Ignored. Id: 56dd1cf99a695914005b94d8. Ground-truth: southwest. Extracted: southwestern\n",
      "WARNIN': Mismatched answer spans. Ignored. Id: 56d0f8a117492d1400aab6af. Ground-truth: 3. Extracted: 32\n",
      "WARNIN': Mismatched answer spans. Ignored. Id: 57265e2b5951b619008f70b6. Ground-truth: orida had become \"a derelict open to the occupancy of every enemy, civilized or savage. Extracted: Florida had become \"a derelict open to the occupancy of every enemy, civilized or savage\n",
      "WARNIN': Mismatched answer spans. Ignored. Id: 56f7188d711bf01900a44954. Ground-truth: region. Extracted: regional\n",
      "WARNIN': Mismatched answer spans. Ignored. Id: 56df86c056340a1900b29cf6. Ground-truth: negative. Extracted: negatively\n",
      "WARNIN': Mismatched answer spans. Ignored. Id: 56d366ee59d6e414001462f6. Ground-truth: 15. Extracted: 2015\n",
      "WARNIN': Mismatched answer spans. Ignored. Id: 56ce750daab44d1400b887b4. Ground-truth: 5. Extracted: 2015\n",
      "WARNIN': Mismatched answer spans. Ignored. Id: 572ebe0a03f98919007569d2. Ground-truth: \"While the interstellar absorbing medium may be simply the ether, [it] is characteris. Extracted: \"While the interstellar absorbing medium may be simply the ether, [it] is characteristic\n",
      "WARNIN': Mismatched answer spans. Ignored. Id: 56de4796cffd8e1900b4b777. Ground-truth: symbiosis. Extracted: osymbiosis\n",
      "WARNIN': Mismatched answer spans. Ignored. Id: 572a50757a1753140016ae9e. Ground-truth: s when too much water is drawn into the bowels. Extracted: occurs when too much water is drawn into the bowels\n",
      "WARNIN': Mismatched answer spans. Ignored. Id: 56d13983e7d4791d00902041. Ground-truth: 3. Extracted: 35\n",
      "WARNIN': Mismatched answer spans. Ignored. Id: 56cf2e15aab44d1400b88dcb. Ground-truth: four. Extracted: fourth\n",
      "WARNIN': Mismatched answer spans. Ignored. Id: 572670f2f1498d1400e8dfb6. Ground-truth: 966 Claude R. Kirk, Jr. was elected as the first post-Reconstruction Republican governor, in an upset election. Extracted: 1966 Claude R. Kirk, Jr. was elected as the first post-Reconstruction Republican governor, in an upset election\n",
      "WARNIN': Mismatched answer spans. Ignored. Id: 56df865956340a1900b29ceb. Ground-truth: kno. Extracted: known\n",
      "WARNIN': Mismatched answer spans. Ignored. Id: 56d1b926e7d4791d009020cf. Ground-truth: 4. Extracted: 4th\n",
      "WARNIN': Mismatched answer spans. Ignored. Id: 5728384dff5b5019007d9f4e. Ground-truth: ederalism in the United States is the evolving relationship between state governments and the federal government of the United States. Extracted: Federalism in the United States is the evolving relationship between state governments and the federal government of the United States\n",
      "WARNIN': Mismatched answer spans. Ignored. Id: 56df5cdd96943c1400a5d438. Ground-truth: 5. Extracted: 500\n",
      "WARNIN': Mismatched answer spans. Ignored. Id: 56e1184ecd28a01900c6759a. Ground-truth: high. Extracted: higher\n",
      "WARNIN': Mismatched answer spans. Ignored. Id: 572783c7f1498d1400e8fa60. Ground-truth: e semi-finals have been played exclusively at the rebuilt Wembley Stadium. Extracted: The semi-finals have been played exclusively at the rebuilt Wembley Stadium\n",
      "WARNIN': Mismatched answer spans. Ignored. Id: 56e6eb396fe0821900b8ec28. Ground-truth: v. Extracted: River\n",
      "WARNIN': Mismatched answer spans. Ignored. Id: 57309ede396df9190009621b. Ground-truth: rld around it. Extracted: world around it\n",
      "WARNIN': Mismatched answer spans. Ignored. Id: 570ffff5b654c5140001f725. Ground-truth: x. Men did not show any sexual arousal to non-human visual stimuli,. Extracted: sex. Men did not show any sexual arousal to non-human visual stimuli,\n",
      "WARNIN': Mismatched answer spans. Ignored. Id: 56d383b159d6e414001465e6. Ground-truth: 15. Extracted: 2015\n",
      "WARNIN': Mismatched answer spans. Ignored. Id: 57262473271a42140099d4ea. Ground-truth: Buddh. Extracted: Buddhism\n",
      "WARNIN': Mismatched answer spans. Ignored. Id: 56cf4e9aaab44d1400b88f9c. Ground-truth: 7. Extracted: 2007\n",
      "WARNIN': Mismatched answer spans. Ignored. Id: 572628f0271a42140099d623. Ground-truth: tes (3. Extracted: tes (304\n",
      "WARNIN': Mismatched answer spans. Ignored. Id: 572670f2f1498d1400e8dfb7. Ground-truth: 968 Edward J. Gurney, also a white conservative, was elected as the state's first post-reconstruction Republican US Senator. Extracted: 1968 Edward J. Gurney, also a white conservative, was elected as the state's first post-reconstruction Republican US Senator\n",
      "WARNIN': Mismatched answer spans. Ignored. Id: 570d2681fed7b91900d45c65. Ground-truth: Europe. Extracted: European\n",
      "WARNIN': Mismatched answer spans. Ignored. Id: 56df7f755ca0a614008f9b62. Ground-truth: north. Extracted: northern\n",
      "WARNIN': Mismatched answer spans. Ignored. Id: 57262957ec44d21400f3daff. Ground-truth: y of. Extracted: many of\n",
      "WARNIN': Mismatched answer spans. Ignored. Id: 56e4744d39bdeb140034793b. Ground-truth: Architect. Extracted: Architecture\n",
      "WARNIN': Mismatched answer spans. Ignored. Id: 56f7d4f7aef2371900625c25. Ground-truth: no. Extracted: nobility\n",
      "WARNIN': Mismatched answer spans. Ignored. Id: 56cebbdeaab44d1400b8895c. Ground-truth: 1 million. Extracted: 11 million\n",
      "WARNIN': Mismatched answer spans. Ignored. Id: 56e0bc7b231d4119001ac364. Ground-truth: December 6, 195. Extracted: December 6, 1957\n",
      "WARNIN': Mismatched answer spans. Ignored. Id: 5725bc3989a1e219009abda6. Ground-truth: n March 2006, the foundation announced a US$5 million grant for the International Justice Mission (IJM). Extracted: In March 2006, the foundation announced a US$5 million grant for the International Justice Mission (IJM)\n",
      "WARNIN': Mismatched answer spans. Ignored. Id: 56cffb63234ae51400d9c1e7. Ground-truth: 2. Extracted: 200\n",
      "WARNIN': Mismatched answer spans. Ignored. Id: 56e8638c37bdd419002c44e1. Ground-truth: 8. Extracted: 148\n",
      "WARNIN': Mismatched answer spans. Ignored. Id: 56e4793839bdeb140034794f. Ground-truth: environment. Extracted: environmental\n",
      "WARNIN': Mismatched answer spans. Ignored. Id: 5706300775f01819005e7a62. Ground-truth: dard. Extracted: standard\n",
      "WARNIN': Mismatched answer spans. Ignored. Id: 5732a0c6cc179a14009dab9e. Ground-truth: 28 July 180. Extracted: 28 July 1800\n",
      "WARNIN': Mismatched answer spans. Ignored. Id: 56cbdea66d243a140015edae. Ground-truth: 7. Extracted: 1817\n",
      "WARNIN': Mismatched answer spans. Ignored. Id: 56ccde7862d2951400fa64d9. Ground-truth: Tibet. Extracted: Tibetan\n",
      "WARNIN': Mismatched answer spans. Ignored. Id: 56e1b959cd28a01900c67ad1. Ground-truth: Somali Post. Extracted: Somali Postal\n",
      "WARNIN': Mismatched answer spans. Ignored. Id: 56e08070231d4119001ac203. Ground-truth: 2. Extracted: 290\n",
      "WARNIN': Mismatched answer spans. Ignored. Id: 56df9ad738dc4217001520c8. Ground-truth: 9. Extracted: 1897\n",
      "WARNIN': Mismatched answer spans. Ignored. Id: 56e6eb396fe0821900b8ec26. Ground-truth: n. Extracted: Nanjing\n",
      "WARNIN': Mismatched answer spans. Ignored. Id: 57266ac25951b619008f7216. Ground-truth: evolution. Extracted: evolutionary\n",
      "WARNIN': Mismatched answer spans. Ignored. Id: 56d38b4e59d6e414001466d7. Ground-truth: 9. Extracted: 2009\n",
      "WARNIN': Mismatched answer spans. Ignored. Id: 56e142e6e3433e1400422d10. Ground-truth: 22. Extracted: 227\n",
      "WARNIN': Mismatched answer spans. Ignored. Id: 572908166aef0514001549cb. Ground-truth: privately funded English language schoo. Extracted: privately funded English language schools\n",
      "WARNIN': Mismatched answer spans. Ignored. Id: 56e080dc231d4119001ac20d. Ground-truth: 1. Extracted: 10\n",
      "WARNIN': Mismatched answer spans. Ignored. Id: 56deebdc3277331400b4d81f. Ground-truth: one. Extracted: component\n",
      "WARNIN': Mismatched answer spans. Ignored. Id: 56e7632700c9c71400d7707f. Ground-truth: 2. Extracted: 216\n",
      "WARNIN': Mismatched answer spans. Ignored. Id: 56dfbc1d231d4119001abd48. Ground-truth: light. Extracted: lighting\n",
      "WARNIN': Mismatched answer spans. Ignored. Id: 56df9dbd4a1a83140091eb99. Ground-truth: 3. Extracted: 1834\n",
      "WARNIN': Mismatched answer spans. Ignored. Id: 56cd5d3a62d2951400fa653e. Ground-truth: manual. Extracted: manually\n",
      "WARNIN': Mismatched answer spans. Ignored. Id: 571047cea58dae1900cd6999. Ground-truth: avoid. Extracted: avoiding\n",
      "WARNIN': Mismatched answer spans. Ignored. Id: 56e0840c231d4119001ac23a. Ground-truth: 3. Extracted: 230\n",
      "WARNIN': Mismatched answer spans. Ignored. Id: 56e079df231d4119001ac19f. Ground-truth: 1. Extracted: 2010\n",
      "WARNIN': Mismatched answer spans. Ignored. Id: 56cf657b4df3c31400b0d700. Ground-truth: 2. Extracted: 2004\n",
      "WARNIN': Mismatched answer spans. Ignored. Id: 5728b4714b864d1900164c70. Ground-truth: Joseph Bohm. Extracted: Joseph Bohmann\n",
      "WARNIN': Mismatched answer spans. Ignored. Id: 572629d9ec44d21400f3db29. Ground-truth: The company's mainstay business. Extracted: The company's mainstay businesses\n",
      "WARNIN': Mismatched answer spans. Ignored. Id: 56e42c8439bdeb1400347913. Ground-truth: one. Extracted: phone\n",
      "WARNIN': Mismatched answer spans. Ignored. Id: 56e7af3b37bdd419002c4338. Ground-truth: 16. Extracted: 2016\n",
      "WARNIN': Mismatched answer spans. Ignored. Id: 56e08a18231d4119001ac291. Ground-truth: negative. Extracted: electronegative\n",
      "WARNIN': Mismatched answer spans. Ignored. Id: 56cf829c234ae51400d9bdd4. Ground-truth: 2. Extracted: 2002\n",
      "WARNIN': Mismatched answer spans. Ignored. Id: 56e06db77aa994140058e49f. Ground-truth: 15. Extracted: 158\n",
      "WARNIN': Mismatched answer spans. Ignored. Id: 56cde1f462d2951400fa6961. Ground-truth: 2. Extracted: 280\n",
      "WARNIN': Mismatched answer spans. Ignored. Id: 5731d3b3e17f3d1400422461. Ground-truth: Indirect. Extracted: Indirectly\n",
      "WARNIN': Mismatched answer spans. Ignored. Id: 5727c1064b864d1900163c87. Ground-truth: e wings of flightless birds and the rudiments of pelvis and leg bones found in some snakes. Extracted: the wings of flightless birds and the rudiments of pelvis and leg bones found in some snakes\n",
      "WARNIN': Mismatched answer spans. Ignored. Id: 572f3442b2c2fd1400567f83. Ground-truth: 40 million years ago. Extracted: 140 million years ago\n",
      "WARNIN': Mismatched answer spans. Ignored. Id: 56dfa0414a1a83140091ebad. Ground-truth: 4. Extracted: 48\n",
      "WARNIN': Mismatched answer spans. Ignored. Id: 56e042487aa994140058e409. Ground-truth: p. Extracted: Alpha\n",
      "WARNIN': Mismatched answer spans. Ignored. Id: 5728f8422ca10214002dab4c. Ground-truth: 5 international airlines and increasing numbers of airlines have began launching direct flights from Japan, Qatar, Taiwan, South Korea, Germany and Singapore.. Extracted: 15 international airlines and increasing numbers of airlines have began launching direct flights from Japan, Qatar, Taiwan, South Korea, Germany and Singapore.\n",
      "WARNIN': Mismatched answer spans. Ignored. Id: 56dafad1e7c41114004b4bfc. Ground-truth: 2. Extracted: 72\n",
      "WARNIN': Mismatched answer spans. Ignored. Id: 5726298fec44d21400f3db09. Ground-truth: in. Extracted: invasions\n",
      "WARNIN': Mismatched answer spans. Ignored. Id: 572bfa9ef182dd1900d7c7a3. Ground-truth: German. Extracted: Germanic\n",
      "WARNIN': Mismatched answer spans. Ignored. Id: 56e6eb396fe0821900b8ec24. Ground-truth: ks. Extracted: networks\n",
      "WARNIN': Mismatched answer spans. Ignored. Id: 56e796f800c9c71400d7731f. Ground-truth: 16. Extracted: 2016\n",
      "WARNIN': Mismatched answer spans. Ignored. Id: 57294d87af94a219006aa278. Ground-truth: Prussia. Extracted: Prussian\n",
      "WARNIN': Mismatched answer spans. Ignored. Id: 56e17841cd28a01900c67997. Ground-truth: cycling. Extracted: icycling\n",
      "WARNIN': Mismatched answer spans. Ignored. Id: 5726d6b55951b619008f7f8e. Ground-truth: 2. Extracted: 23\n",
      "WARNIN': Mismatched answer spans. Ignored. Id: 570de5f70b85d914000d7b9c. Ground-truth: large. Extracted: largest\n",
      "WARNIN': Mismatched answer spans. Ignored. Id: 56e07d387aa994140058e56d. Ground-truth: 1. Extracted: 1967\n",
      "WARNIN': Mismatched answer spans. Ignored. Id: 56cfe987234ae51400d9c09b. Ground-truth: 92. Extracted: 1892\n",
      "WARNIN': Mismatched answer spans. Ignored. Id: 571a275210f8ca1400304f06. Ground-truth: g allows information from the outside world to be sensed in the form of chemical and physical stimuli.. Extracted: ding allows information from the outside world to be sensed in the form of chemical and physical stimuli.\n",
      "WARNIN': Mismatched answer spans. Ignored. Id: 56e098707aa994140058e605. Ground-truth: 91. Extracted: 1917\n",
      "WARNIN': Mismatched answer spans. Ignored. Id: 56dfa04b38dc421700152128. Ground-truth: men. Extracted: arrangements\n",
      "WARNIN': Mismatched answer spans. Ignored. Id: 570dfa320b85d914000d7c48. Ground-truth: No. Extracted: Nonetheless\n",
      "WARNIN': Mismatched answer spans. Ignored. Id: 57318409e6313a140071cffa. Ground-truth: Inca. Extracted: Incans\n",
      "WARNIN': Mismatched answer spans. Ignored. Id: 56cf3442aab44d1400b88e39. Ground-truth: 3. Extracted: 33\n",
      "WARNIN': Mismatched answer spans. Ignored. Id: 57262473271a42140099d4eb. Ground-truth: m and E. Extracted: m and Epic\n"
     ]
    },
    {
     "data": {
      "text/plain": [
       "Dataset({\n",
       "    features: ['input_ids', 'token_type_ids', 'attention_mask', 'offset_mapping', 'overflow_to_sample_mapping', 'start_positions', 'end_positions'],\n",
       "    num_rows: 50662\n",
       "})"
      ]
     },
     "execution_count": 13,
     "metadata": {},
     "output_type": "execute_result"
    }
   ],
   "source": [
    "dataset_squad_train_tokenized = dataset_squad_train.map(tokenize_and_create_label,\n",
    "                                  batch_size=1000,\n",
    "                                  batched=True,\n",
    "                                  remove_columns=dataset_squad_train.column_names)\n",
    "dataset_squad_train_tokenized"
   ]
  },
  {
   "cell_type": "code",
   "execution_count": 15,
   "metadata": {},
   "outputs": [
    {
     "name": "stdout",
     "output_type": "stream",
     "text": [
      "Start/end token positions: (97, 99)\n",
      "\n",
      "*** (in tokenized example) ***\n",
      "Answer: the throne room\n",
      "Decoded tokens: [CLS] Which room has The Ballroom replaced in terms of both use and importance? [SEP] Investitures, which include the conferring of knighthoods by dubbing with a sword, and other awards take place in the palace's Ballroom, built in 1854. At 36. 6 m ( 120 ft ) long, 18 m ( 59 ft ) wide and 13. 5 m ( 44 ft ) high, it is the largest room in the palace. It has replaced the throne room in importance and use. During investitures, the Queen stands on the throne dais beneath a giant, domed velvet canopy, known as a shamiana or a baldachin, that was used at the Delhi Durbar in 1911. A military band plays in the musicians'gallery as award recipients approach the Queen and receive their honours, watched by their families and friends. [SEP] [PAD] [PAD] [PAD] [PAD] [PAD] [PAD] [PAD] [PAD] [PAD] [PAD] [PAD] [PAD] [PAD] [PAD] [PAD] [PAD] [PAD] [PAD] [PAD] [PAD] [PAD] [PAD] [PAD] [PAD] [PAD] [PAD] [PAD] [PAD] [PAD] [PAD] [PAD] [PAD] [PAD] [PAD] [PAD] [PAD] [PAD] [PAD] [PAD] [PAD] [PAD] [PAD] [PAD] [PAD] [PAD] [PAD] [PAD] [PAD] [PAD] [PAD] [PAD] [PAD] [PAD] [PAD] [PAD] [PAD] [PAD] [PAD] [PAD] [PAD] [PAD] [PAD] [PAD] [PAD] [PAD] [PAD] [PAD] [PAD] [PAD] [PAD] [PAD] [PAD] [PAD] [PAD] [PAD] [PAD] [PAD] [PAD] [PAD] [PAD] [PAD] [PAD] [PAD] [PAD] [PAD] [PAD] [PAD] [PAD] [PAD] [PAD] [PAD] [PAD] [PAD] [PAD] [PAD] [PAD] [PAD] [PAD] [PAD] [PAD] [PAD] [PAD] [PAD] [PAD] [PAD] [PAD] [PAD] [PAD] [PAD] [PAD] [PAD] [PAD] [PAD] [PAD] [PAD] [PAD] [PAD] [PAD] [PAD] [PAD] [PAD] [PAD] [PAD] [PAD] [PAD] [PAD] [PAD] [PAD] [PAD] [PAD] [PAD] [PAD] [PAD] [PAD] [PAD] [PAD] [PAD] [PAD] [PAD] [PAD] [PAD] [PAD] [PAD] [PAD] [PAD] [PAD] [PAD] [PAD] [PAD] [PAD] [PAD] [PAD] [PAD] [PAD] [PAD] [PAD] [PAD] [PAD] [PAD] [PAD] [PAD] [PAD] [PAD] [PAD] [PAD] [PAD] [PAD] [PAD] [PAD] [PAD] [PAD] [PAD] [PAD] [PAD] [PAD] [PAD] [PAD] [PAD] [PAD] [PAD] [PAD] [PAD] [PAD] [PAD] [PAD] [PAD] [PAD] [PAD] [PAD] [PAD] [PAD] [PAD] [PAD] [PAD] [PAD] [PAD] [PAD] [PAD] [PAD] [PAD] [PAD] [PAD] [PAD] [PAD] [PAD]\n",
      "\n",
      "*** in original example - index 694***\n",
      "Answer: the throne room\n",
      "Answer_start: 274\n",
      "Question: Which room has The Ballroom replaced in terms of both use and importance?\n",
      "Context: Investitures, which include the conferring of knighthoods by dubbing with a sword, and other awards take place in the palace's Ballroom, built in 1854. At 36.6 m (120 ft) long, 18 m (59 ft) wide and 13.5 m (44 ft) high, it is the largest room in the palace. It has replaced the throne room in importance and use. During investitures, the Queen stands on the throne dais beneath a giant, domed velvet canopy, known as a shamiana or a baldachin, that was used at the Delhi Durbar in 1911. A military band plays in the musicians' gallery as award recipients approach the Queen and receive their honours, watched by their families and friends.\n"
     ]
    }
   ],
   "source": [
    "\n",
    "# some testing. This index must be less than 1000 because this is only checking the first batch of the tokenizing process\n",
    "some_idx = 700\n",
    "t = dataset_squad_train_tokenized[some_idx][\"input_ids\"][\n",
    "    dataset_squad_train_tokenized[some_idx][\"start_positions\"] : dataset_squad_train_tokenized[some_idx][\"end_positions\"] + 1\n",
    "    ]\n",
    "\n",
    "print(f\"Start/end token positions: {dataset_squad_train_tokenized[some_idx][\"start_positions\"], dataset_squad_train_tokenized[some_idx][\"end_positions\"]}\\n\")\n",
    "\n",
    "print(\"*** (in tokenized example) ***\")\n",
    "print(f\"Answer: {tokenizer.decode(t)}\")\n",
    "print(f\"Decoded tokens: {tokenizer.decode(dataset_squad_train_tokenized[some_idx][\"input_ids\"])}\")\n",
    "\n",
    "original_example_idx = dataset_squad_train_tokenized[\"overflow_to_sample_mapping\"][some_idx]\n",
    "print(f\"\\n*** in original example - index {original_example_idx}***\")\n",
    "print(f\"Answer: {dataset_squad_train[original_example_idx][\"answers\"][\"text\"][0]}\")\n",
    "print(f\"Answer_start: {dataset_squad_train[original_example_idx][\"answers\"][\"answer_start\"][0]}\")\n",
    "print(f\"Question: {dataset_squad_train[original_example_idx][\"question\"]}\")\n",
    "print(f\"Context: {dataset_squad_train[original_example_idx][\"context\"]}\")\n"
   ]
  },
  {
   "cell_type": "markdown",
   "metadata": {},
   "source": [
    "# Data preprocessing (Validation)"
   ]
  },
  {
   "cell_type": "code",
   "execution_count": 16,
   "metadata": {},
   "outputs": [
    {
     "data": {
      "text/plain": [
       "Dataset({\n",
       "    features: ['id', 'title', 'context', 'question', 'answers'],\n",
       "    num_rows: 5000\n",
       "})"
      ]
     },
     "execution_count": 16,
     "metadata": {},
     "output_type": "execute_result"
    }
   ],
   "source": [
    "dataset_squad_valid: Dataset = dataset_squad_mini[\"valid\"]\n",
    "dataset_squad_valid"
   ]
  },
  {
   "cell_type": "markdown",
   "metadata": {},
   "source": [
    "## preprocessing: adding 'example_id' key to map each \"tokenized example\" back to which \"original example\""
   ]
  },
  {
   "cell_type": "code",
   "execution_count": 17,
   "metadata": {},
   "outputs": [],
   "source": [
    "def tokenize_and_map_to_original_example_ids(batch):\n",
    "    # print(f\"Using tokenizer checkpoint: {tokenizer.name_or_path}\")\n",
    "    batch_tokenized = tokenizer(text=batch[\"question\"], text_pair=batch[\"context\"],\n",
    "                                                   truncation=\"only_second\", max_length=max_length, \n",
    "                                                   stride=stride,\n",
    "                                                   padding=\"max_length\",\n",
    "                                                   return_overflowing_tokens=True, \n",
    "                                                #    return_length=True,\n",
    "                                                   return_offsets_mapping=True,\n",
    "                                                   )\n",
    "    \n",
    "    # loop through each \"tokenized example\"\n",
    "    # for each \"tokenized example\",\n",
    "    original_example_ids = []\n",
    "    for tokenized_example_idx in range(len(batch_tokenized[\"input_ids\"])):\n",
    "        # find out the corresponding id of the corresponding \"original example\"\n",
    "        id_original_example = batch_tokenized[\"overflow_to_sample_mapping\"][tokenized_example_idx]\n",
    "        original_example_ids.append(batch[\"id\"][id_original_example])\n",
    "    if \"token_type_ids\" not in batch_tokenized.keys():\n",
    "        token_type_ids = []\n",
    "        for tokenized_example_idx in range(len(batch_tokenized[\"input_ids\"])):\n",
    "            token_type_sequence = [1 if token_type == 1 else 0\n",
    "                                   for token_type in batch_tokenized.sequence_ids((tokenized_example_idx))]\n",
    "            token_type_ids.append(token_type_sequence)\n",
    "        batch_tokenized[\"token_type_ids\"] = token_type_ids\n",
    "            \n",
    "    batch_tokenized[\"example_id\"] = original_example_ids\n",
    "    return batch_tokenized\n",
    "        \n",
    "        "
   ]
  },
  {
   "cell_type": "code",
   "execution_count": 18,
   "metadata": {},
   "outputs": [
    {
     "data": {
      "application/vnd.jupyter.widget-view+json": {
       "model_id": "b5312287084440878f1e79ae95861274",
       "version_major": 2,
       "version_minor": 0
      },
      "text/plain": [
       "Map:   0%|          | 0/5000 [00:00<?, ? examples/s]"
      ]
     },
     "metadata": {},
     "output_type": "display_data"
    },
    {
     "data": {
      "text/plain": [
       "Dataset({\n",
       "    features: ['input_ids', 'token_type_ids', 'attention_mask', 'offset_mapping', 'overflow_to_sample_mapping', 'example_id'],\n",
       "    num_rows: 5113\n",
       "})"
      ]
     },
     "execution_count": 18,
     "metadata": {},
     "output_type": "execute_result"
    }
   ],
   "source": [
    "dataset_squad_valid_tokenized: Dataset = dataset_squad_valid.map(function=tokenize_and_map_to_original_example_ids,\n",
    "                                                        batched=True,\n",
    "                                                        remove_columns=dataset_squad_valid.column_names)\n",
    "dataset_squad_valid_tokenized"
   ]
  },
  {
   "cell_type": "markdown",
   "metadata": {},
   "source": [
    "# Evaluation function"
   ]
  },
  {
   "cell_type": "code",
   "execution_count": 19,
   "metadata": {},
   "outputs": [],
   "source": [
    "def evaluate_batch(eval_batch, model, tokenizer, max_token_distance_to_search=30):\n",
    "    \"\"\"Evaluate each batch, return a dictionary that maps from the `id` of the original examples to the predicted answer text (for this batch)\"\"\"\n",
    "    \n",
    "    # for each batch, generate a look-up table to look up from \"id\" of original example to a list of the multiple \"tokenized examples\" that came from it\n",
    "    from collections import defaultdict\n",
    "    lookup_table = defaultdict(list)\n",
    "    predicted_answers_dict = dict()\n",
    "    for tokenized_example_idx in range(len(eval_batch[\"input_ids\"])):\n",
    "        original_example_id = eval_batch[\"example_id\"][tokenized_example_idx]\n",
    "        lookup_table[original_example_id].append(tokenized_example_idx)\n",
    "        \n",
    "    # pass through the model to predict the answer text positions\n",
    "    model.eval()\n",
    "    with torch.no_grad():\n",
    "        eval_outputs = model(input_ids=eval_batch[\"input_ids\"].to(model.device), \n",
    "                        attention_mask=eval_batch[\"attention_mask\"].to(model.device), \n",
    "                        # token_type_ids=eval_batch[\"token_type_ids\"].to(model.device),\n",
    "                        )\n",
    "    \n",
    "    # loop through each \"original example\"\n",
    "    # and for each \"original example,\" loop through its corresponding \"tokenized examples\"\n",
    "    # meaning: for each \"tokenized example\": get all the start-position logits and end-position logits \n",
    "    # compute the best sum-of-start-and-end-logit score (for all pairs of start-position and end-position logits)\n",
    "    # ignore start-position/end-position pairs where\n",
    "    # (1) start position > end position\n",
    "    # (2) start position or end position is not a the context token\n",
    "    # (3) start position is too far apart from end position\n",
    "    # we do that by computing the sum of logits in a NxN matrix, mask out some unacceptable start-end pairs, then taxke max\n",
    "    \n",
    "    eval_start_logits = eval_outputs[\"start_logits\"]  # for example, torch.Size([32, 100])\n",
    "    eval_end_logits = eval_outputs[\"end_logits\"]  # for example, torch.Size([32, 100])\n",
    "    batch_dim, seq_len = eval_start_logits.shape\n",
    "    eval_start_logits_reshaped = eval_start_logits.reshape(batch_dim, seq_len, 1) # for ex, shape (32, 100, 1)\n",
    "    eval_end_logits_reshaped = eval_end_logits.reshape(batch_dim, 1, seq_len) # for ex, shape (32, 1, 100)\n",
    "    sum_logits = eval_start_logits_reshaped + eval_end_logits_reshaped  # in this matrix A[i, j] (in each batch) is the sum of start-logits at position i and end-logits at position j\n",
    "    \n",
    "    # need to mask out the lower triangular part (below the diagonal) because we only care about start-position < end-position\n",
    "    mask_lower = torch.tril(torch.ones_like(sum_logits), diagonal=-1).to(model.device)  # \"1\" indicates being masked out\n",
    "    \n",
    "    # mask the acceptable start-logits based on which tokens actually belong to the context\n",
    "    mask_start_logits = 1 - eval_batch[\"token_type_ids\"].reshape(batch_dim, seq_len, 1).to(model.device)  # e.g. (32, 100, 1) - \"1\" indicates being masked out\n",
    "    # by inspection, eval_batch[\"token_type_ids\"] has \"0\" values for the questions or padding, and \"1\" values for the tokens belonging to the context\n",
    "    \n",
    "    # mask the acceptable end-logits based on which tokens actually belong to the context\n",
    "    mask_end_logits = 1 - eval_batch[\"token_type_ids\"].reshape(batch_dim, 1, seq_len).to(model.device)  # e.g. (32, 1, 100)\n",
    "    \n",
    "    # mask for only j - i indices < a certain length\n",
    "    i_indices = torch.arange(seq_len).reshape(1, seq_len, 1).expand(batch_dim, seq_len, 1).to(model.device)\n",
    "    j_indices = torch.arange(seq_len).reshape(1, 1, seq_len).expand(batch_dim, 1, seq_len).to(model.device)\n",
    "    distance_mask = (j_indices - i_indices) > max_token_distance_to_search\n",
    "    \n",
    "    final_mask = torch.logical_or(torch.logical_or((mask_lower == 1), (mask_start_logits == 1)), (mask_end_logits == 1))\n",
    "    final_mask = torch.logical_or(final_mask, distance_mask)\n",
    "    \n",
    "    \n",
    "    sum_logits_masked = torch.where(\n",
    "        final_mask,\n",
    "        torch.full_like(sum_logits, float(\"-inf\")),\n",
    "        sum_logits\n",
    "    ).to(model.device)\n",
    "    \n",
    "    max_values, max_indices = torch.max(sum_logits_masked.view(batch_dim, -1), dim=-1)\n",
    "    i_indices = max_indices // sum_logits_masked.shape[1]\n",
    "    j_indices = max_indices % sum_logits_masked.shape[2]\n",
    "    \n",
    "    max_indices_2d = torch.stack((i_indices, j_indices), dim=1)\n",
    "    \n",
    "    # now loop through the original examples (in lookup table)\n",
    "    for original_example_id, tokenized_example_idx_list in lookup_table.items():\n",
    "        # for each \"original example,\" temporarily store the max sum-logit values and the start-end positions (coming from all the \"tokenized examples\" that came from that particular \"original example\")\n",
    "        # then get the largest sum-logit value, and use that particular start/end token positions to extract the answer\n",
    "        temp_list_for_index_pair = []\n",
    "        temp_list_for_max_values = []\n",
    "        for tokenized_example_idx in tokenized_example_idx_list:\n",
    "            temp_list_for_max_values.append(max_values[tokenized_example_idx])\n",
    "            temp_list_for_index_pair.append(max_indices_2d[tokenized_example_idx])\n",
    "        index_of_largest = torch.argmax(torch.tensor(temp_list_for_max_values))\n",
    "        tokenized_example_idx = tokenized_example_idx_list[index_of_largest]\n",
    "        token_position_start = temp_list_for_index_pair[index_of_largest][0].item()\n",
    "        token_position_end = temp_list_for_index_pair[index_of_largest][1].item()\n",
    "        # after this, \"tokenized_example_idx\" is the index of the \"tokenized example\" that has the optimal answer\n",
    "        # \"token_position_start\" is the position of the starting token of the answer (within the \"offset_mapping\" key of the example)\n",
    "        # \"token_position_end\" is the position of the end token of the answer (within the \"offset_mapping\" key of the example)\n",
    "        \n",
    "        # from there, extract the text answer, store in a dict, so we can look up the predicted answer using \"original example id\"\n",
    "        predicted_answer = tokenizer.decode(eval_batch[\"input_ids\"][tokenized_example_idx][token_position_start : token_position_end + 1])\n",
    "        \n",
    "        predicted_answers_dict[original_example_id] = predicted_answer\n",
    "        \n",
    "    return predicted_answers_dict"
   ]
  },
  {
   "cell_type": "code",
   "execution_count": 20,
   "metadata": {},
   "outputs": [],
   "source": [
    "import tqdm\n",
    "\n",
    "def compute_metrics(model, valid_loader, dataset_squad_valid, metric):\n",
    "    predicted_answers_entire_valid_set = dict()\n",
    "    # iterate over eval batches\n",
    "    with tqdm.tqdm(desc=\"Eval progress\",\n",
    "               total=len(valid_loader),\n",
    "               unit=\"steps\") as pbar: \n",
    "        for eval_batch_idx, eval_batch in enumerate(valid_loader):\n",
    "            \n",
    "            predicted_answers_dict = evaluate_batch(eval_batch, model, tokenizer)\n",
    "            predicted_answers_entire_valid_set.update(predicted_answers_dict)\n",
    "            pbar.update(1)    \n",
    "    \n",
    "    # then should format the answers as text and format the dictionary as expected by the 'squad' metric\n",
    "    list_predicted_answers = [\n",
    "        {\n",
    "            \"id\": original_example_id,\n",
    "            \"prediction_text\": predicted_answer\n",
    "        }\n",
    "        for original_example_id, predicted_answer in predicted_answers_entire_valid_set.items()\n",
    "    ]\n",
    "        \n",
    "    # now extract the ground-truth answer text from the original dataset, format into expected format for squad\n",
    "    list_ground_truth_answers = []\n",
    "    for original_example_idx in range(len(dataset_squad_valid[\"id\"])):\n",
    "        list_ground_truth_answers.append({\n",
    "            'answers': dataset_squad_valid[\"answers\"][original_example_idx],\n",
    "            'id': dataset_squad_valid[\"id\"][original_example_idx]\n",
    "        })\n",
    "        \n",
    "    eval_results = metric.compute(predictions=list_predicted_answers, references=list_ground_truth_answers)\n",
    "    return eval_results"
   ]
  },
  {
   "cell_type": "markdown",
   "metadata": {},
   "source": [
    "## Testing the eval part"
   ]
  },
  {
   "cell_type": "markdown",
   "metadata": {},
   "source": [
    "### Testing with a DistilBERT model fine-tuned on SQuAD - should get good scores"
   ]
  },
  {
   "cell_type": "code",
   "execution_count": 21,
   "metadata": {},
   "outputs": [
    {
     "data": {
      "application/vnd.jupyter.widget-view+json": {
       "model_id": "5b3bfd2ba1ee41768b5db1ba2a816a16",
       "version_major": 2,
       "version_minor": 0
      },
      "text/plain": [
       "config.json:   0%|          | 0.00/473 [00:00<?, ?B/s]"
      ]
     },
     "metadata": {},
     "output_type": "display_data"
    },
    {
     "data": {
      "application/vnd.jupyter.widget-view+json": {
       "model_id": "c52cc533659f4ad1b591bb57049f7ed0",
       "version_major": 2,
       "version_minor": 0
      },
      "text/plain": [
       "model.safetensors:   0%|          | 0.00/261M [00:00<?, ?B/s]"
      ]
     },
     "metadata": {},
     "output_type": "display_data"
    }
   ],
   "source": [
    "from transformers import AutoModelForQuestionAnswering\n",
    "trained_checkpoint = \"distilbert-base-cased-distilled-squad\"\n",
    "model = AutoModelForQuestionAnswering.from_pretrained(trained_checkpoint)"
   ]
  },
  {
   "cell_type": "code",
   "execution_count": 18,
   "metadata": {},
   "outputs": [
    {
     "name": "stderr",
     "output_type": "stream",
     "text": [
      "/opt/conda/envs/HF_NLP/lib/python3.12/site-packages/transformers/tokenization_utils_base.py:1601: FutureWarning: `clean_up_tokenization_spaces` was not set. It will be set to `True` by default. This behavior will be depracted in transformers v4.45, and will be then set to `False` by default. For more details check this issue: https://github.com/huggingface/transformers/issues/31884\n",
      "  warnings.warn(\n"
     ]
    }
   ],
   "source": [
    "tokenizer = AutoTokenizer.from_pretrained(trained_checkpoint)"
   ]
  },
  {
   "cell_type": "code",
   "execution_count": 19,
   "metadata": {},
   "outputs": [],
   "source": [
    "from torch.utils.data import DataLoader\n",
    "from transformers import default_data_collator\n",
    "\n",
    "def custom_collator(batch):\n",
    "    # Extract the \"example_id\"\n",
    "    example_ids = [ex[\"example_id\"] for ex in batch]\n",
    "    # Use the default data collator to collate\n",
    "    tensor_batch = default_data_collator(batch)\n",
    "    # Add the \"example_id\" back to the collated batch\n",
    "    tensor_batch[\"example_id\"] = example_ids\n",
    "    return tensor_batch\n",
    "\n",
    "valid_loader: DataLoader = DataLoader(dataset=dataset_squad_valid_tokenized,\n",
    "                                      batch_size=32,\n",
    "                                      shuffle=False,\n",
    "                                      collate_fn=custom_collator)\n"
   ]
  },
  {
   "cell_type": "code",
   "execution_count": null,
   "metadata": {},
   "outputs": [],
   "source": [
    "dataset_squad_valid_tokenized: Dataset = dataset_squad_valid.map(function=tokenize_and_map_to_original_example_ids,\n",
    "                                                        batched=True,\n",
    "                                                        remove_columns=dataset_squad_valid.column_names)\n",
    "dataset_squad_valid_tokenized"
   ]
  },
  {
   "cell_type": "code",
   "execution_count": 21,
   "metadata": {},
   "outputs": [
    {
     "name": "stdout",
     "output_type": "stream",
     "text": [
      "{'exact_match': 80.0, 'f1': 86.62500000000001}\n"
     ]
    }
   ],
   "source": [
    "import evaluate\n",
    "metric = evaluate.load(\"squad\")\n",
    "# info(metric)\n",
    "print(compute_metrics(model, valid_loader, dataset_squad_valid, metric))"
   ]
  },
  {
   "cell_type": "markdown",
   "metadata": {},
   "source": [
    "# Training"
   ]
  },
  {
   "cell_type": "markdown",
   "metadata": {},
   "source": [
    "## Set-up: model"
   ]
  },
  {
   "cell_type": "code",
   "execution_count": 22,
   "metadata": {},
   "outputs": [
    {
     "data": {
      "application/vnd.jupyter.widget-view+json": {
       "model_id": "0dc8520ee9fd4792a28fcce989fc0a92",
       "version_major": 2,
       "version_minor": 0
      },
      "text/plain": [
       "model.safetensors:   0%|          | 0.00/436M [00:00<?, ?B/s]"
      ]
     },
     "metadata": {},
     "output_type": "display_data"
    },
    {
     "name": "stderr",
     "output_type": "stream",
     "text": [
      "Some weights of BertForQuestionAnswering were not initialized from the model checkpoint at google-bert/bert-base-cased and are newly initialized: ['qa_outputs.bias', 'qa_outputs.weight']\n",
      "You should probably TRAIN this model on a down-stream task to be able to use it for predictions and inference.\n",
      "/opt/conda/envs/HF_NLP/lib/python3.12/site-packages/transformers/tokenization_utils_base.py:1601: FutureWarning: `clean_up_tokenization_spaces` was not set. It will be set to `True` by default. This behavior will be depracted in transformers v4.45, and will be then set to `False` by default. For more details check this issue: https://github.com/huggingface/transformers/issues/31884\n",
      "  warnings.warn(\n",
      "huggingface/tokenizers: The current process just got forked, after parallelism has already been used. Disabling parallelism to avoid deadlocks...\n",
      "To disable this warning, you can either:\n",
      "\t- Avoid using `tokenizers` before the fork if possible\n",
      "\t- Explicitly set the environment variable TOKENIZERS_PARALLELISM=(true | false)\n",
      "huggingface/tokenizers: The current process just got forked, after parallelism has already been used. Disabling parallelism to avoid deadlocks...\n",
      "To disable this warning, you can either:\n",
      "\t- Avoid using `tokenizers` before the fork if possible\n",
      "\t- Explicitly set the environment variable TOKENIZERS_PARALLELISM=(true | false)\n"
     ]
    },
    {
     "name": "stdout",
     "output_type": "stream",
     "text": [
      "Using cuda:0\n"
     ]
    }
   ],
   "source": [
    "from transformers import AutoModelForQuestionAnswering\n",
    "\n",
    "model = AutoModelForQuestionAnswering.from_pretrained(model_checkpoint)\n",
    "tokenizer = AutoTokenizer.from_pretrained(model_checkpoint)\n",
    "\n",
    "device = 'cuda' if torch.cuda.is_available() else 'cpu'\n",
    "model.to(device)\n",
    "print(f\"Using {model.device}\")"
   ]
  },
  {
   "cell_type": "code",
   "execution_count": null,
   "metadata": {},
   "outputs": [],
   "source": [
    "\n",
    "dataset_squad_valid_tokenized: Dataset = dataset_squad_valid.map(function=tokenize_and_map_to_original_example_ids,\n",
    "                                                        batched=True,\n",
    "                                                        remove_columns=dataset_squad_valid.column_names)\n",
    "dataset_squad_valid_tokenized"
   ]
  },
  {
   "cell_type": "markdown",
   "metadata": {},
   "source": [
    "## Set-up: data loaders"
   ]
  },
  {
   "cell_type": "code",
   "execution_count": 23,
   "metadata": {},
   "outputs": [],
   "source": [
    "from torch.utils.data import DataLoader\n",
    "from transformers import default_data_collator\n",
    "\n",
    "train_loader: DataLoader = DataLoader(dataset=dataset_squad_train_tokenized,\n",
    "                                      batch_size=32,\n",
    "                                      shuffle=True,\n",
    "                                      collate_fn=default_data_collator)\n",
    "\n",
    "def custom_collator(batch):\n",
    "    # Extract the \"example_id\"\n",
    "    example_ids = [ex[\"example_id\"] for ex in batch]\n",
    "    # Use the default data collator to collate\n",
    "    tensor_batch = default_data_collator(batch)\n",
    "    # Add the \"example_id\" back to the collated batch\n",
    "    tensor_batch[\"example_id\"] = example_ids\n",
    "    return tensor_batch\n",
    "\n",
    "valid_loader: DataLoader = DataLoader(dataset=dataset_squad_valid_tokenized,\n",
    "                                      batch_size=32,\n",
    "                                      shuffle=False,\n",
    "                                      collate_fn=custom_collator)"
   ]
  },
  {
   "cell_type": "markdown",
   "metadata": {},
   "source": [
    "## Testing the model (not yet finetuned) on validation set - should get poor score"
   ]
  },
  {
   "cell_type": "code",
   "execution_count": 17,
   "metadata": {},
   "outputs": [
    {
     "name": "stdout",
     "output_type": "stream",
     "text": [
      "{'exact_match': 0.0, 'f1': 3.055555555555556}\n"
     ]
    }
   ],
   "source": [
    "import evaluate\n",
    "metric = evaluate.load(\"squad\")\n",
    "# info(metric)\n",
    "print(compute_metrics(model, valid_loader, dataset_squad_valid, metric))"
   ]
  },
  {
   "cell_type": "markdown",
   "metadata": {},
   "source": [
    "## Set-up: optimizer, lr scheduler, logging/eval params"
   ]
  },
  {
   "cell_type": "code",
   "execution_count": 24,
   "metadata": {},
   "outputs": [
    {
     "name": "stdout",
     "output_type": "stream",
     "text": [
      "Using:  cuda:0\n"
     ]
    }
   ],
   "source": [
    "import tqdm\n",
    "from transformers import get_scheduler\n",
    "\n",
    "optimizer = torch.optim.AdamW(params=model.parameters(), lr=5e-5)\n",
    "\n",
    "num_epochs = 2\n",
    "gradient_accumulation_batches = 1\n",
    "logging_steps = 150\n",
    "# eval_steps = 400\n",
    "\n",
    "max_token_distance_to_search = 30\n",
    "\n",
    "# each \"step\" consists of several batches that were accumulated\n",
    "total_training_steps = len(train_loader) // gradient_accumulation_batches * num_epochs\n",
    "\n",
    "lr_scheduler = get_scheduler(name=\"linear\",\n",
    "                             optimizer=optimizer,\n",
    "                             num_warmup_steps=50,\n",
    "                             num_training_steps=total_training_steps,)\n",
    "\n",
    "device = 'cuda' if torch.cuda.is_available() else 'cpu'\n",
    "model.to(device)\n",
    "print(\"Using: \", model.device)"
   ]
  },
  {
   "cell_type": "markdown",
   "metadata": {},
   "source": [
    "## Training loop"
   ]
  },
  {
   "cell_type": "code",
   "execution_count": 26,
   "metadata": {},
   "outputs": [
    {
     "name": "stderr",
     "output_type": "stream",
     "text": [
      "Training progress:   5%|▍         | 150/3168 [05:26<2:21:04,  2.80s/steps]"
     ]
    },
    {
     "name": "stdout",
     "output_type": "stream",
     "text": [
      "{'completed_steps': 149, 'train loss (last accumulation)': 1.79549241065979} \n",
      "\n"
     ]
    },
    {
     "name": "stderr",
     "output_type": "stream",
     "text": [
      "Training progress:  10%|▉         | 301/3168 [10:52<1:35:16,  1.99s/steps]"
     ]
    },
    {
     "name": "stdout",
     "output_type": "stream",
     "text": [
      "{'completed_steps': 299, 'train loss (last accumulation)': 1.495582103729248} \n",
      "\n"
     ]
    },
    {
     "name": "stderr",
     "output_type": "stream",
     "text": [
      "Training progress:  14%|█▍        | 450/3168 [16:18<2:06:59,  2.80s/steps]"
     ]
    },
    {
     "name": "stdout",
     "output_type": "stream",
     "text": [
      "{'completed_steps': 449, 'train loss (last accumulation)': 1.1635879278182983} \n",
      "\n"
     ]
    },
    {
     "name": "stderr",
     "output_type": "stream",
     "text": [
      "Training progress:  16%|█▌        | 501/3168 [18:07<1:48:03,  2.43s/steps]"
     ]
    },
    {
     "name": "stdout",
     "output_type": "stream",
     "text": [
      "Model saved.\n"
     ]
    },
    {
     "name": "stderr",
     "output_type": "stream",
     "text": [
      "Training progress:  19%|█▉        | 600/3168 [21:44<2:00:01,  2.80s/steps]"
     ]
    },
    {
     "name": "stdout",
     "output_type": "stream",
     "text": [
      "{'completed_steps': 599, 'train loss (last accumulation)': 2.0094125270843506} \n",
      "\n"
     ]
    },
    {
     "name": "stderr",
     "output_type": "stream",
     "text": [
      "Training progress:  24%|██▎       | 750/3168 [27:10<1:53:00,  2.80s/steps]"
     ]
    },
    {
     "name": "stdout",
     "output_type": "stream",
     "text": [
      "{'completed_steps': 749, 'train loss (last accumulation)': 1.4823153018951416} \n",
      "\n"
     ]
    },
    {
     "name": "stderr",
     "output_type": "stream",
     "text": [
      "Training progress:  28%|██▊       | 900/3168 [32:36<1:45:56,  2.80s/steps]"
     ]
    },
    {
     "name": "stdout",
     "output_type": "stream",
     "text": [
      "{'completed_steps': 899, 'train loss (last accumulation)': 1.0121257305145264} \n",
      "\n"
     ]
    },
    {
     "name": "stderr",
     "output_type": "stream",
     "text": [
      "Training progress:  32%|███▏      | 1001/3168 [36:17<2:03:20,  3.42s/steps]"
     ]
    },
    {
     "name": "stdout",
     "output_type": "stream",
     "text": [
      "Model saved.\n"
     ]
    },
    {
     "name": "stderr",
     "output_type": "stream",
     "text": [
      "Training progress:  33%|███▎      | 1050/3168 [38:06<1:38:45,  2.80s/steps]"
     ]
    },
    {
     "name": "stdout",
     "output_type": "stream",
     "text": [
      "{'completed_steps': 1049, 'train loss (last accumulation)': 1.0659204721450806} \n",
      "\n"
     ]
    },
    {
     "name": "stderr",
     "output_type": "stream",
     "text": [
      "Training progress:  38%|███▊      | 1200/3168 [43:31<1:31:55,  2.80s/steps]"
     ]
    },
    {
     "name": "stdout",
     "output_type": "stream",
     "text": [
      "{'completed_steps': 1199, 'train loss (last accumulation)': 1.1513829231262207} \n",
      "\n"
     ]
    },
    {
     "name": "stderr",
     "output_type": "stream",
     "text": [
      "Training progress:  43%|████▎     | 1350/3168 [48:57<1:24:59,  2.80s/steps]"
     ]
    },
    {
     "name": "stdout",
     "output_type": "stream",
     "text": [
      "{'completed_steps': 1349, 'train loss (last accumulation)': 1.200542688369751} \n",
      "\n"
     ]
    },
    {
     "name": "stderr",
     "output_type": "stream",
     "text": [
      "Training progress:  47%|████▋     | 1500/3168 [54:22<1:18:05,  2.81s/steps]"
     ]
    },
    {
     "name": "stdout",
     "output_type": "stream",
     "text": [
      "{'completed_steps': 1499, 'train loss (last accumulation)': 0.8191907405853271} \n",
      "\n"
     ]
    },
    {
     "name": "stderr",
     "output_type": "stream",
     "text": [
      "Training progress:  47%|████▋     | 1501/3168 [54:26<1:28:33,  3.19s/steps]"
     ]
    },
    {
     "name": "stdout",
     "output_type": "stream",
     "text": [
      "Model saved.\n"
     ]
    },
    {
     "name": "stderr",
     "output_type": "stream",
     "text": [
      "Training progress:  55%|█████▍    | 1734/3168 [1:02:53<1:07:00,  2.80s/steps]"
     ]
    },
    {
     "name": "stdout",
     "output_type": "stream",
     "text": [
      "{'completed_steps': 1733, 'train loss (last accumulation)': 0.5911881327629089} \n",
      "\n"
     ]
    },
    {
     "name": "stderr",
     "output_type": "stream",
     "text": [
      "Training progress:  59%|█████▉    | 1884/3168 [1:08:18<1:00:00,  2.80s/steps]"
     ]
    },
    {
     "name": "stdout",
     "output_type": "stream",
     "text": [
      "{'completed_steps': 1883, 'train loss (last accumulation)': 0.9456667900085449} \n",
      "\n"
     ]
    },
    {
     "name": "stderr",
     "output_type": "stream",
     "text": [
      "Training progress:  63%|██████▎   | 2001/3168 [1:12:34<1:07:05,  3.45s/steps]"
     ]
    },
    {
     "name": "stdout",
     "output_type": "stream",
     "text": [
      "Model saved.\n"
     ]
    },
    {
     "name": "stderr",
     "output_type": "stream",
     "text": [
      "Training progress:  64%|██████▍   | 2035/3168 [1:13:48<37:49,  2.00s/steps]  "
     ]
    },
    {
     "name": "stdout",
     "output_type": "stream",
     "text": [
      "{'completed_steps': 2033, 'train loss (last accumulation)': 0.2696741223335266} \n",
      "\n"
     ]
    },
    {
     "name": "stderr",
     "output_type": "stream",
     "text": [
      "Training progress:  69%|██████▉   | 2184/3168 [1:19:13<45:58,  2.80s/steps]"
     ]
    },
    {
     "name": "stdout",
     "output_type": "stream",
     "text": [
      "{'completed_steps': 2183, 'train loss (last accumulation)': 0.6266515851020813} \n",
      "\n"
     ]
    },
    {
     "name": "stderr",
     "output_type": "stream",
     "text": [
      "Training progress:  74%|███████▎  | 2334/3168 [1:24:39<38:57,  2.80s/steps]"
     ]
    },
    {
     "name": "stdout",
     "output_type": "stream",
     "text": [
      "{'completed_steps': 2333, 'train loss (last accumulation)': 0.6621687412261963} \n",
      "\n"
     ]
    },
    {
     "name": "stderr",
     "output_type": "stream",
     "text": [
      "Training progress:  78%|███████▊  | 2484/3168 [1:30:04<31:55,  2.80s/steps]"
     ]
    },
    {
     "name": "stdout",
     "output_type": "stream",
     "text": [
      "{'completed_steps': 2483, 'train loss (last accumulation)': 0.6244927644729614} \n",
      "\n"
     ]
    },
    {
     "name": "stderr",
     "output_type": "stream",
     "text": [
      "Training progress:  79%|███████▉  | 2501/3168 [1:30:43<37:59,  3.42s/steps]"
     ]
    },
    {
     "name": "stdout",
     "output_type": "stream",
     "text": [
      "Model saved.\n"
     ]
    },
    {
     "name": "stderr",
     "output_type": "stream",
     "text": [
      "Training progress:  83%|████████▎ | 2634/3168 [1:35:34<24:56,  2.80s/steps]"
     ]
    },
    {
     "name": "stdout",
     "output_type": "stream",
     "text": [
      "{'completed_steps': 2633, 'train loss (last accumulation)': 0.8024786710739136} \n",
      "\n"
     ]
    },
    {
     "name": "stderr",
     "output_type": "stream",
     "text": [
      "Training progress:  88%|████████▊ | 2784/3168 [1:40:59<17:54,  2.80s/steps]"
     ]
    },
    {
     "name": "stdout",
     "output_type": "stream",
     "text": [
      "{'completed_steps': 2783, 'train loss (last accumulation)': 1.0297491550445557} \n",
      "\n"
     ]
    },
    {
     "name": "stderr",
     "output_type": "stream",
     "text": [
      "Training progress:  93%|█████████▎| 2934/3168 [1:46:25<10:53,  2.79s/steps]"
     ]
    },
    {
     "name": "stdout",
     "output_type": "stream",
     "text": [
      "{'completed_steps': 2933, 'train loss (last accumulation)': 0.5104318857192993} \n",
      "\n"
     ]
    },
    {
     "name": "stderr",
     "output_type": "stream",
     "text": [
      "Training progress:  95%|█████████▍| 3001/3168 [1:48:52<09:22,  3.37s/steps]"
     ]
    },
    {
     "name": "stdout",
     "output_type": "stream",
     "text": [
      "Model saved.\n"
     ]
    },
    {
     "name": "stderr",
     "output_type": "stream",
     "text": [
      "Training progress:  97%|█████████▋| 3084/3168 [1:51:54<03:55,  2.80s/steps]"
     ]
    },
    {
     "name": "stdout",
     "output_type": "stream",
     "text": [
      "{'completed_steps': 3083, 'train loss (last accumulation)': 0.8068967461585999} \n",
      "\n"
     ]
    },
    {
     "name": "stderr",
     "output_type": "stream",
     "text": [
      "Training progress: 100%|██████████| 3168/3168 [1:54:54<00:00,  2.18s/steps]\n"
     ]
    }
   ],
   "source": [
    "import evaluate\n",
    "\n",
    "completed_steps = 0\n",
    "currently_accumulated_losses = []\n",
    "metric = evaluate.load(\"squad\")\n",
    "\n",
    "with tqdm.tqdm(desc=\"Training progress\",\n",
    "               total=total_training_steps,\n",
    "               unit=\"steps\") as pbar:\n",
    "    for epoch in range(num_epochs):\n",
    "        for batch_idx, batch in enumerate(train_loader):\n",
    "            # train iteration\n",
    "            # move the inputs to model's device\n",
    "            # pass the inputs through the model\n",
    "            model.train()\n",
    "            outputs = model(input_ids=batch[\"input_ids\"].to(model.device), \n",
    "                  attention_mask=batch[\"attention_mask\"].to(model.device), \n",
    "                #   token_type_ids=batch[\"token_type_ids\"].to(model.device),\n",
    "                  start_positions=batch[\"start_positions\"].to(model.device),\n",
    "                  end_positions=batch[\"end_positions\"].to(model.device))\n",
    "            \n",
    "            # extract the loss\n",
    "            loss_this_batch = outputs.loss\n",
    "            # backward pass\n",
    "            loss_this_batch.backward()\n",
    "            # save the loss value to the currently-accumulated array\n",
    "            currently_accumulated_losses.append(loss_this_batch)\n",
    "            \n",
    "            # if logging step: \n",
    "            if (batch_idx + 1) % (gradient_accumulation_batches * logging_steps) == 0:\n",
    "                accumulated_loss = torch.stack(currently_accumulated_losses).mean().item()\n",
    "                print({\n",
    "                    \"completed_steps\": completed_steps,\n",
    "                    \"train loss (last accumulation)\": accumulated_loss\n",
    "                }, \"\\n\")\n",
    "                \n",
    "            # if accumulation step: update the optimizer, scheduler, \"completed_steps\" value, update progress bar\n",
    "            if (batch_idx + 1) % gradient_accumulation_batches == 0:\n",
    "                optimizer.step()\n",
    "                optimizer.zero_grad()\n",
    "                lr_scheduler.step()\n",
    "                completed_steps += 1\n",
    "                pbar.update(1)\n",
    "                currently_accumulated_losses = []\n",
    "            \n",
    "            # if eval step:\n",
    "            # if (batch_idx + 1) % (gradient_accumulation_batches * eval_steps) == 0:\n",
    "                # eval iteration\n",
    "                # print(\"Validation: \", compute_metrics(model, valid_loader, dataset_squad_valid, metric), \"\\n\")\n",
    "                \n",
    "            if completed_steps % 500 == 0:\n",
    "                model.save_pretrained(\"/home/nguyenthuan49/HF_NLP_course/question-answering/fine-tuned-bert-squad\")\n",
    "                print(\"Model saved.\")\n",
    "\n",
    "                \n"
   ]
  },
  {
   "cell_type": "code",
   "execution_count": 29,
   "metadata": {},
   "outputs": [
    {
     "data": {
      "image/png": "[encoded data removed]",
      "text/plain": [
       "<Figure size 1000x600 with 1 Axes>"
      ]
     },
     "metadata": {},
     "output_type": "display_data"
    }
   ],
   "source": [
    "import matplotlib.pyplot as plt\n",
    "\n",
    "# What a low-tech way to store the training losses and plot - I know...\n",
    "# I forgot to keep track while training  - pls forgive me!\n",
    "\n",
    "# extracted list of tuples with each element containing completed_steps and train_loss\n",
    "# Data extracted\n",
    "data = [\n",
    "    (149, 1.79549241065979),\n",
    "    (299, 1.495582103729248),\n",
    "    (449, 1.1635879278182983),\n",
    "    (599, 2.0094125270843506),\n",
    "    (749, 1.4823153018951416),\n",
    "    (899, 1.0121257305145264),\n",
    "    (1049, 1.0659204721450806),\n",
    "    (1199, 1.1513829231262207),\n",
    "    (1349, 1.200542688369751),\n",
    "    (1499, 0.8191907405853271),\n",
    "    (1733, 0.5911881327629089),\n",
    "    (1883, 0.9456667900085449),\n",
    "    (2033, 0.2696741223335266),\n",
    "    (2183, 0.6266515851020813),\n",
    "    (2333, 0.6621687412261963),\n",
    "    (2483, 0.6244927644729614),\n",
    "    (2633, 0.8024786710739136),\n",
    "    (2783, 1.0297491550445557),\n",
    "    (2933, 0.5104318857192993),\n",
    "    (3083, 0.8068967461585999)\n",
    "]\n",
    "\n",
    "# Unpack data into two lists\n",
    "completed_steps, train_loss = zip(*data)\n",
    "\n",
    "# Plot\n",
    "plt.figure(figsize=(10, 6))\n",
    "plt.plot(completed_steps, train_loss, marker='o', linestyle='-', color='b')\n",
    "plt.xlabel('Completed Steps')\n",
    "plt.ylabel('Training Loss')\n",
    "plt.title('Training Loss vs. Completed Steps')\n",
    "plt.grid(True)\n",
    "plt.show()"
   ]
  },
  {
   "cell_type": "code",
   "execution_count": 28,
   "metadata": {},
   "outputs": [
    {
     "name": "stderr",
     "output_type": "stream",
     "text": [
      "Eval progress: 100%|██████████| 160/160 [01:59<00:00,  1.34steps/s]\n"
     ]
    },
    {
     "name": "stdout",
     "output_type": "stream",
     "text": [
      "{'exact_match': 71.1, 'f1': 80.62985630352878}\n"
     ]
    }
   ],
   "source": [
    "print(compute_metrics(model, valid_loader, dataset_squad_valid, metric))"
   ]
  },
  {
   "cell_type": "markdown",
   "metadata": {},
   "source": [
    "# Saving the model"
   ]
  },
  {
   "cell_type": "code",
   "execution_count": 27,
   "metadata": {},
   "outputs": [],
   "source": [
    "model.save_pretrained(\"/home/nguyenthuan49/HF_NLP_course/question-answering/fine-tuned-bert-squad\")\n"
   ]
  },
  {
   "cell_type": "markdown",
   "metadata": {},
   "source": [
    "# Inference"
   ]
  },
  {
   "cell_type": "code",
   "execution_count": 31,
   "metadata": {},
   "outputs": [
    {
     "data": {
      "application/vnd.jupyter.widget-view+json": {
       "model_id": "5fce5180f69d4b36bc8ce415c4fde820",
       "version_major": 2,
       "version_minor": 0
      },
      "text/plain": [
       "Map:   0%|          | 0/1 [00:00<?, ? examples/s]"
      ]
     },
     "metadata": {},
     "output_type": "display_data"
    },
    {
     "name": "stdout",
     "output_type": "stream",
     "text": [
      "QUESTION: How did the military found dead bodies?\n",
      "\n",
      "CONTEXT: The Israeli military said on Saturday that it had found a number of dead bodies during an operation in the Gaza Strip, asking the Israeli public to refrain from speculation about their identities.\n",
      "\n",
      "The announcement was widely interpreted in Israel, however, as confirmation that more Israeli hostages had died in captivity, and it quickly amplified calls for an immediate cease-fire in order to free the roughly 100 captives still held, both dead and alive, in Gaza.\n",
      "\n",
      "ANSWER: during an operation in the Gaza Strip\n"
     ]
    }
   ],
   "source": [
    "from datasets import Dataset\n",
    "from torch.utils.data import DataLoader\n",
    "from transformers import default_data_collator\n",
    "\n",
    "\n",
    "question = \"How did the military found dead bodies?\"\n",
    "context = \"\"\"The Israeli military said on Saturday that it had found a number of dead bodies during an operation in the Gaza Strip, asking the Israeli public to refrain from speculation about their identities.\n",
    "\n",
    "The announcement was widely interpreted in Israel, however, as confirmation that more Israeli hostages had died in captivity, and it quickly amplified calls for an immediate cease-fire in order to free the roughly 100 captives still held, both dead and alive, in Gaza.\"\"\"\n",
    "\n",
    "def find_answer_span(question, context, model, tokenizer):\n",
    "    inference_batch = Dataset.from_dict({\n",
    "        \"id\": [\"00\"],\n",
    "        \"question\": [question],\n",
    "        \"context\": [context]\n",
    "    })\n",
    "\n",
    "    tokenized_inference_batch = inference_batch.map(tokenize_and_map_to_original_example_ids,\n",
    "                                                                    batched=True,\n",
    "                                                                    remove_columns=inference_batch.column_names,\n",
    "                                                                    )\n",
    "    \n",
    "    def custom_collator(batch):\n",
    "        # Extract the \"example_id\"\n",
    "        example_ids = [ex[\"example_id\"] for ex in batch]\n",
    "        # Use the default data collator to collate\n",
    "        tensor_batch = default_data_collator(batch)\n",
    "        # Add the \"example_id\" back to the collated batch\n",
    "        tensor_batch[\"example_id\"] = example_ids\n",
    "        return tensor_batch\n",
    "\n",
    "    inference_loader: DataLoader = DataLoader(dataset=tokenized_inference_batch,\n",
    "                                        batch_size=10,\n",
    "                                        shuffle=False,\n",
    "                                        collate_fn=custom_collator)\n",
    "\n",
    "    # print(compute_metrics(model, train_loader_for_validation, dataset_squad_train, metric))\n",
    "    predicted_answers_dict = evaluate_batch(iter(inference_loader).__next__(), model, tokenizer)\n",
    "    return (predicted_answers_dict['00'])\n",
    "\n",
    "predicted_answer = find_answer_span(question, context, model, tokenizer)\n",
    "print(f\"QUESTION: {question}\")\n",
    "print(f\"\\nCONTEXT: {context}\")\n",
    "print(f\"\\nANSWER: {predicted_answer}\")"
   ]
  },
  {
   "cell_type": "code",
   "execution_count": 32,
   "metadata": {},
   "outputs": [
    {
     "data": {
      "application/vnd.jupyter.widget-view+json": {
       "model_id": "d2695b45f7e14ed6a13ff5085f1f993e",
       "version_major": 2,
       "version_minor": 0
      },
      "text/plain": [
       "Map:   0%|          | 0/1 [00:00<?, ? examples/s]"
      ]
     },
     "metadata": {},
     "output_type": "display_data"
    },
    {
     "name": "stdout",
     "output_type": "stream",
     "text": [
      "QUESTION: What was found?\n",
      "\n",
      "CONTEXT: The Israeli military said on Saturday that it had found a number of dead bodies during an operation in the Gaza Strip, asking the Israeli public to refrain from speculation about their identities.\n",
      "\n",
      "The announcement was widely interpreted in Israel, however, as confirmation that more Israeli hostages had died in captivity, and it quickly amplified calls for an immediate cease-fire in order to free the roughly 100 captives still held, both dead and alive, in Gaza.\n",
      "\n",
      "ANSWER: a number of dead bodies\n"
     ]
    }
   ],
   "source": [
    "question = \"What was found?\"\n",
    "context = \"\"\"The Israeli military said on Saturday that it had found a number of dead bodies during an operation in the Gaza Strip, asking the Israeli public to refrain from speculation about their identities.\n",
    "\n",
    "The announcement was widely interpreted in Israel, however, as confirmation that more Israeli hostages had died in captivity, and it quickly amplified calls for an immediate cease-fire in order to free the roughly 100 captives still held, both dead and alive, in Gaza.\"\"\"\n",
    "\n",
    "predicted_answer = find_answer_span(question, context, model, tokenizer)\n",
    "print(f\"QUESTION: {question}\")\n",
    "print(f\"\\nCONTEXT: {context}\")\n",
    "print(f\"\\nANSWER: {predicted_answer}\")"
   ]
  },
  {
   "cell_type": "code",
   "execution_count": 33,
   "metadata": {},
   "outputs": [
    {
     "data": {
      "application/vnd.jupyter.widget-view+json": {
       "model_id": "538882567ced4d3ba23146416d4bae2b",
       "version_major": 2,
       "version_minor": 0
      },
      "text/plain": [
       "Map:   0%|          | 0/1 [00:00<?, ? examples/s]"
      ]
     },
     "metadata": {},
     "output_type": "display_data"
    },
    {
     "name": "stdout",
     "output_type": "stream",
     "text": [
      "QUESTION: What was the public not supposed to do?\n",
      "\n",
      "CONTEXT: The Israeli military said on Saturday that it had found a number of dead bodies during an operation in the Gaza Strip, asking the Israeli public to refrain from speculation about their identities.\n",
      "\n",
      "The announcement was widely interpreted in Israel, however, as confirmation that more Israeli hostages had died in captivity, and it quickly amplified calls for an immediate cease-fire in order to free the roughly 100 captives still held, both dead and alive, in Gaza.\n",
      "\n",
      "ANSWER: speculation about their identities\n"
     ]
    }
   ],
   "source": [
    "question = \"What was the public not supposed to do?\"\n",
    "context = \"\"\"The Israeli military said on Saturday that it had found a number of dead bodies during an operation in the Gaza Strip, asking the Israeli public to refrain from speculation about their identities.\n",
    "\n",
    "The announcement was widely interpreted in Israel, however, as confirmation that more Israeli hostages had died in captivity, and it quickly amplified calls for an immediate cease-fire in order to free the roughly 100 captives still held, both dead and alive, in Gaza.\"\"\"\n",
    "\n",
    "predicted_answer = find_answer_span(question, context, model, tokenizer)\n",
    "print(f\"QUESTION: {question}\")\n",
    "print(f\"\\nCONTEXT: {context}\")\n",
    "print(f\"\\nANSWER: {predicted_answer}\")"
   ]
  },
  {
   "cell_type": "code",
   "execution_count": 34,
   "metadata": {},
   "outputs": [
    {
     "data": {
      "application/vnd.jupyter.widget-view+json": {
       "model_id": "e48e852664eb4b7e85fb79aa28666e39",
       "version_major": 2,
       "version_minor": 0
      },
      "text/plain": [
       "Map:   0%|          | 0/1 [00:00<?, ? examples/s]"
      ]
     },
     "metadata": {},
     "output_type": "display_data"
    },
    {
     "name": "stdout",
     "output_type": "stream",
     "text": [
      "QUESTION: What became more urgent after this announcement?\n",
      "\n",
      "CONTEXT: The Israeli military said on Saturday that it had found a number of dead bodies during an operation in the Gaza Strip, asking the Israeli public to refrain from speculation about their identities.\n",
      "\n",
      "The announcement was widely interpreted in Israel, however, as confirmation that more Israeli hostages had died in captivity, and it quickly amplified calls for an immediate cease-fire in order to free the roughly 100 captives still held, both dead and alive, in Gaza.\n",
      "\n",
      "ANSWER: cease - fire\n"
     ]
    }
   ],
   "source": [
    "question = \"What became more urgent after this announcement?\"\n",
    "context = \"\"\"The Israeli military said on Saturday that it had found a number of dead bodies during an operation in the Gaza Strip, asking the Israeli public to refrain from speculation about their identities.\n",
    "\n",
    "The announcement was widely interpreted in Israel, however, as confirmation that more Israeli hostages had died in captivity, and it quickly amplified calls for an immediate cease-fire in order to free the roughly 100 captives still held, both dead and alive, in Gaza.\"\"\"\n",
    "\n",
    "predicted_answer = find_answer_span(question, context, model, tokenizer)\n",
    "print(f\"QUESTION: {question}\")\n",
    "print(f\"\\nCONTEXT: {context}\")\n",
    "print(f\"\\nANSWER: {predicted_answer}\")"
   ]
  },
  {
   "cell_type": "code",
   "execution_count": 35,
   "metadata": {},
   "outputs": [
    {
     "data": {
      "application/vnd.jupyter.widget-view+json": {
       "model_id": "4743218e179b4f4e8d161e2113a06c13",
       "version_major": 2,
       "version_minor": 0
      },
      "text/plain": [
       "Map:   0%|          | 0/1 [00:00<?, ? examples/s]"
      ]
     },
     "metadata": {},
     "output_type": "display_data"
    },
    {
     "name": "stdout",
     "output_type": "stream",
     "text": [
      "QUESTION: What's the situation like for Ukraine at the moment?\n",
      "\n",
      "CONTEXT: President Volodymyr Zelensky of Ukraine on Wednesday was poised to undertake the biggest shake-up of his government since Russia's full-scale invasion, with half a dozen senior figures offering to resign, as Russian forces carried out a second day of deadly attacks in the early morning.\n",
      "\n",
      "Dmytro Kuleba, the foreign minister, has offered to resign as have at least six others, according to the speaker of Ukraine's Parliament. Mr. Zelensky said Tuesday that “personnel decisions have been prepared” to fortify his government in the war. The restructuring comes at a precarious moment for Ukraine in the war, with heavy Russian assaults on the eastern front near the transit hub of Pokrovsk.\n",
      "\n",
      "ANSWER: The restructuring comes at a precarious moment for Ukraine in the war\n"
     ]
    }
   ],
   "source": [
    "question = \"What's the situation like for Ukraine at the moment?\"\n",
    "context = \"\"\"President Volodymyr Zelensky of Ukraine on Wednesday was poised to undertake the biggest shake-up of his government since Russia's full-scale invasion, with half a dozen senior figures offering to resign, as Russian forces carried out a second day of deadly attacks in the early morning.\n",
    "\n",
    "Dmytro Kuleba, the foreign minister, has offered to resign as have at least six others, according to the speaker of Ukraine's Parliament. Mr. Zelensky said Tuesday that “personnel decisions have been prepared” to fortify his government in the war. The restructuring comes at a precarious moment for Ukraine in the war, with heavy Russian assaults on the eastern front near the transit hub of Pokrovsk.\"\"\"\n",
    "\n",
    "predicted_answer = find_answer_span(question, context, model, tokenizer)\n",
    "print(f\"QUESTION: {question}\")\n",
    "print(f\"\\nCONTEXT: {context}\")\n",
    "print(f\"\\nANSWER: {predicted_answer}\")"
   ]
  },
  {
   "cell_type": "code",
   "execution_count": 36,
   "metadata": {},
   "outputs": [
    {
     "data": {
      "application/vnd.jupyter.widget-view+json": {
       "model_id": "f360bd33689b4236a29b75a1208f560c",
       "version_major": 2,
       "version_minor": 0
      },
      "text/plain": [
       "Map:   0%|          | 0/1 [00:00<?, ? examples/s]"
      ]
     },
     "metadata": {},
     "output_type": "display_data"
    },
    {
     "name": "stdout",
     "output_type": "stream",
     "text": [
      "QUESTION: Where's the war raging right now?\n",
      "\n",
      "CONTEXT: President Volodymyr Zelensky of Ukraine on Wednesday was poised to undertake the biggest shake-up of his government since Russia's full-scale invasion, with half a dozen senior figures offering to resign, as Russian forces carried out a second day of deadly attacks in the early morning.\n",
      "\n",
      "Dmytro Kuleba, the foreign minister, has offered to resign as have at least six others, according to the speaker of Ukraine's Parliament. Mr. Zelensky said Tuesday that “personnel decisions have been prepared” to fortify his government in the war. The restructuring comes at a precarious moment for Ukraine in the war, with heavy Russian assaults on the eastern front near the transit hub of Pokrovsk.\n",
      "\n",
      "ANSWER: Pokrovsk\n"
     ]
    }
   ],
   "source": [
    "question = \"Where's the war raging right now?\"\n",
    "context = \"\"\"President Volodymyr Zelensky of Ukraine on Wednesday was poised to undertake the biggest shake-up of his government since Russia's full-scale invasion, with half a dozen senior figures offering to resign, as Russian forces carried out a second day of deadly attacks in the early morning.\n",
    "\n",
    "Dmytro Kuleba, the foreign minister, has offered to resign as have at least six others, according to the speaker of Ukraine's Parliament. Mr. Zelensky said Tuesday that “personnel decisions have been prepared” to fortify his government in the war. The restructuring comes at a precarious moment for Ukraine in the war, with heavy Russian assaults on the eastern front near the transit hub of Pokrovsk.\"\"\"\n",
    "\n",
    "predicted_answer = find_answer_span(question, context, model, tokenizer)\n",
    "print(f\"QUESTION: {question}\")\n",
    "print(f\"\\nCONTEXT: {context}\")\n",
    "print(f\"\\nANSWER: {predicted_answer}\")"
   ]
  },
  {
   "cell_type": "code",
   "execution_count": 40,
   "metadata": {},
   "outputs": [
    {
     "data": {
      "application/vnd.jupyter.widget-view+json": {
       "model_id": "662a2d82cc784620a5a0088ddeec35b7",
       "version_major": 2,
       "version_minor": 0
      },
      "text/plain": [
       "Map:   0%|          | 0/1 [00:00<?, ? examples/s]"
      ]
     },
     "metadata": {},
     "output_type": "display_data"
    },
    {
     "name": "stdout",
     "output_type": "stream",
     "text": [
      "QUESTION: What job positions are going to be vacated soon?\n",
      "\n",
      "CONTEXT: President Volodymyr Zelensky of Ukraine on Wednesday was poised to undertake the biggest shake-up of his government since Russia's full-scale invasion, with half a dozen senior figures offering to resign, as Russian forces carried out a second day of deadly attacks in the early morning.\n",
      "\n",
      "Dmytro Kuleba, the foreign minister, has offered to resign as have at least six others, according to the speaker of Ukraine's Parliament. Mr. Zelensky said Tuesday that “personnel decisions have been prepared” to fortify his government in the war. The restructuring comes at a precarious moment for Ukraine in the war, with heavy Russian assaults on the eastern front near the transit hub of Pokrovsk.\n",
      "\n",
      "ANSWER: foreign minister\n"
     ]
    }
   ],
   "source": [
    "question = \"What job positions are going to be vacated soon?\"\n",
    "context = \"\"\"President Volodymyr Zelensky of Ukraine on Wednesday was poised to undertake the biggest shake-up of his government since Russia's full-scale invasion, with half a dozen senior figures offering to resign, as Russian forces carried out a second day of deadly attacks in the early morning.\n",
    "\n",
    "Dmytro Kuleba, the foreign minister, has offered to resign as have at least six others, according to the speaker of Ukraine's Parliament. Mr. Zelensky said Tuesday that “personnel decisions have been prepared” to fortify his government in the war. The restructuring comes at a precarious moment for Ukraine in the war, with heavy Russian assaults on the eastern front near the transit hub of Pokrovsk.\"\"\"\n",
    "\n",
    "predicted_answer = find_answer_span(question, context, model, tokenizer)\n",
    "print(f\"QUESTION: {question}\")\n",
    "print(f\"\\nCONTEXT: {context}\")\n",
    "print(f\"\\nANSWER: {predicted_answer}\")"
   ]
  },
  {
   "cell_type": "code",
   "execution_count": 41,
   "metadata": {},
   "outputs": [
    {
     "data": {
      "application/vnd.jupyter.widget-view+json": {
       "model_id": "3b4eb8eebb2840d9b5c13016180b9869",
       "version_major": 2,
       "version_minor": 0
      },
      "text/plain": [
       "Map:   0%|          | 0/1 [00:00<?, ? examples/s]"
      ]
     },
     "metadata": {},
     "output_type": "display_data"
    },
    {
     "name": "stdout",
     "output_type": "stream",
     "text": [
      "QUESTION: How did the US comment on this development?\n",
      "\n",
      "CONTEXT: American and Iraqi commandos raided several Islamic State hide-outs in western Iraq last week, killing at least 14 ISIS fighters in one of the most sweeping counterterrorism missions in the country in recent years.\n",
      "\n",
      "Seven U.S. soldiers were injured as more than 200 troops from both countries, including backup forces, hunted down fighters in bunkers over miles of remote terrain, U.S. and Iraqi officials said, adding that the size, scope and focus of the mission underscored the terrorist organization's resurgence in recent months.\n",
      "\n",
      "A senior insurgent commander overseeing Islamic State operations in the Middle East and Europe was the main target, they said.\n",
      "\n",
      "“The operation targeted ISIS leaders with the objective of disrupting and degrading ISIS's ability to plan, organize, and conduct attacks against Iraqi civilians, as well as U.S., allies and partners throughout the region and beyond,” the military's Central Command said in a statement on Sunday.\n",
      "\n",
      "ANSWER: adding that the size, scope and focus of the mission underscored the terrorist organization's resurgence in recent months\n"
     ]
    }
   ],
   "source": [
    "question = \"How did the US comment on this development?\"\n",
    "context = \"\"\"American and Iraqi commandos raided several Islamic State hide-outs in western Iraq last week, killing at least 14 ISIS fighters in one of the most sweeping counterterrorism missions in the country in recent years.\n",
    "\n",
    "Seven U.S. soldiers were injured as more than 200 troops from both countries, including backup forces, hunted down fighters in bunkers over miles of remote terrain, U.S. and Iraqi officials said, adding that the size, scope and focus of the mission underscored the terrorist organization's resurgence in recent months.\n",
    "\n",
    "A senior insurgent commander overseeing Islamic State operations in the Middle East and Europe was the main target, they said.\n",
    "\n",
    "“The operation targeted ISIS leaders with the objective of disrupting and degrading ISIS's ability to plan, organize, and conduct attacks against Iraqi civilians, as well as U.S., allies and partners throughout the region and beyond,” the military's Central Command said in a statement on Sunday.\"\"\"\n",
    "\n",
    "predicted_answer = find_answer_span(question, context, model, tokenizer)\n",
    "print(f\"QUESTION: {question}\")\n",
    "print(f\"\\nCONTEXT: {context}\")\n",
    "print(f\"\\nANSWER: {predicted_answer}\")"
   ]
  },
  {
   "cell_type": "code",
   "execution_count": 44,
   "metadata": {},
   "outputs": [
    {
     "data": {
      "application/vnd.jupyter.widget-view+json": {
       "model_id": "ba7e74ea59394102af8968b9f67d694c",
       "version_major": 2,
       "version_minor": 0
      },
      "text/plain": [
       "Map:   0%|          | 0/1 [00:00<?, ? examples/s]"
      ]
     },
     "metadata": {},
     "output_type": "display_data"
    },
    {
     "name": "stdout",
     "output_type": "stream",
     "text": [
      "QUESTION: What was the purpose of this operation?\n",
      "\n",
      "CONTEXT: American and Iraqi commandos raided several Islamic State hide-outs in western Iraq last week, killing at least 14 ISIS fighters in one of the most sweeping counterterrorism missions in the country in recent years.\n",
      "\n",
      "Seven U.S. soldiers were injured as more than 200 troops from both countries, including backup forces, hunted down fighters in bunkers over miles of remote terrain, U.S. and Iraqi officials said, adding that the size, scope and focus of the mission underscored the terrorist organization's resurgence in recent months.\n",
      "\n",
      "A senior insurgent commander overseeing Islamic State operations in the Middle East and Europe was the main target, they said.\n",
      "\n",
      "“The operation targeted ISIS leaders with the objective of disrupting and degrading ISIS's ability to plan, organize, and conduct attacks against Iraqi civilians, as well as U.S., allies and partners throughout the region and beyond,” the military's Central Command said in a statement on Sunday.\n",
      "\n",
      "ANSWER: disrupting and degrading ISIS's ability to plan, organize, and conduct attacks against Iraqi civilians\n"
     ]
    }
   ],
   "source": [
    "question = \"What was the purpose of this operation?\"\n",
    "context = \"\"\"American and Iraqi commandos raided several Islamic State hide-outs in western Iraq last week, killing at least 14 ISIS fighters in one of the most sweeping counterterrorism missions in the country in recent years.\n",
    "\n",
    "Seven U.S. soldiers were injured as more than 200 troops from both countries, including backup forces, hunted down fighters in bunkers over miles of remote terrain, U.S. and Iraqi officials said, adding that the size, scope and focus of the mission underscored the terrorist organization's resurgence in recent months.\n",
    "\n",
    "A senior insurgent commander overseeing Islamic State operations in the Middle East and Europe was the main target, they said.\n",
    "\n",
    "“The operation targeted ISIS leaders with the objective of disrupting and degrading ISIS's ability to plan, organize, and conduct attacks against Iraqi civilians, as well as U.S., allies and partners throughout the region and beyond,” the military's Central Command said in a statement on Sunday.\"\"\"\n",
    "\n",
    "predicted_answer = find_answer_span(question, context, model, tokenizer)\n",
    "print(f\"QUESTION: {question}\")\n",
    "print(f\"\\nCONTEXT: {context}\")\n",
    "print(f\"\\nANSWER: {predicted_answer}\")"
   ]
  },
  {
   "cell_type": "code",
   "execution_count": 49,
   "metadata": {},
   "outputs": [
    {
     "data": {
      "application/vnd.jupyter.widget-view+json": {
       "model_id": "21fa767fe8364e9a9e823ceacde44aaf",
       "version_major": 2,
       "version_minor": 0
      },
      "text/plain": [
       "Map:   0%|          | 0/1 [00:00<?, ? examples/s]"
      ]
     },
     "metadata": {},
     "output_type": "display_data"
    },
    {
     "name": "stdout",
     "output_type": "stream",
     "text": [
      "QUESTION: Where did somme people kill some other people?\n",
      "\n",
      "CONTEXT: American and Iraqi commandos raided several Islamic State hide-outs in western Iraq last week, killing at least 14 ISIS fighters in one of the most sweeping counterterrorism missions in the country in recent years.\n",
      "\n",
      "Seven U.S. soldiers were injured as more than 200 troops from both countries, including backup forces, hunted down fighters in bunkers over miles of remote terrain, U.S. and Iraqi officials said, adding that the size, scope and focus of the mission underscored the terrorist organization's resurgence in recent months.\n",
      "\n",
      "A senior insurgent commander overseeing Islamic State operations in the Middle East and Europe was the main target, they said.\n",
      "\n",
      "“The operation targeted ISIS leaders with the objective of disrupting and degrading ISIS's ability to plan, organize, and conduct attacks against Iraqi civilians, as well as U.S., allies and partners throughout the region and beyond,” the military's Central Command said in a statement on Sunday.\n",
      "\n",
      "ANSWER: bunkers\n"
     ]
    }
   ],
   "source": [
    "question = \"Where did somme people kill some other people?\"\n",
    "context = \"\"\"American and Iraqi commandos raided several Islamic State hide-outs in western Iraq last week, killing at least 14 ISIS fighters in one of the most sweeping counterterrorism missions in the country in recent years.\n",
    "\n",
    "Seven U.S. soldiers were injured as more than 200 troops from both countries, including backup forces, hunted down fighters in bunkers over miles of remote terrain, U.S. and Iraqi officials said, adding that the size, scope and focus of the mission underscored the terrorist organization's resurgence in recent months.\n",
    "\n",
    "A senior insurgent commander overseeing Islamic State operations in the Middle East and Europe was the main target, they said.\n",
    "\n",
    "“The operation targeted ISIS leaders with the objective of disrupting and degrading ISIS's ability to plan, organize, and conduct attacks against Iraqi civilians, as well as U.S., allies and partners throughout the region and beyond,” the military's Central Command said in a statement on Sunday.\"\"\"\n",
    "\n",
    "predicted_answer = find_answer_span(question, context, model, tokenizer)\n",
    "print(f\"QUESTION: {question}\")\n",
    "print(f\"\\nCONTEXT: {context}\")\n",
    "print(f\"\\nANSWER: {predicted_answer}\")"
   ]
  }
 ],
 "metadata": {
  "kernelspec": {
   "display_name": "HF_NLP",
   "language": "python",
   "name": "python3"
  },
  "language_info": {
   "codemirror_mode": {
    "name": "ipython",
    "version": 3
   },
   "file_extension": ".py",
   "mimetype": "text/x-python",
   "name": "python",
   "nbconvert_exporter": "python",
   "pygments_lexer": "ipython3",
   "version": "3.12.5"
  }
 },
 "nbformat": 4,
 "nbformat_minor": 2
}
